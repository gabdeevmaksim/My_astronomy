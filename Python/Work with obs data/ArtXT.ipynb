{
 "cells": [
  {
   "cell_type": "code",
   "execution_count": 2,
   "metadata": {},
   "outputs": [
    {
     "ename": "ModuleNotFoundError",
     "evalue": "No module named 'astroquery'",
     "output_type": "error",
     "traceback": [
      "\u001b[1;31m---------------------------------------------------------------------------\u001b[0m",
      "\u001b[1;31mModuleNotFoundError\u001b[0m                       Traceback (most recent call last)",
      "\u001b[1;32m<ipython-input-2-71d779dc51e3>\u001b[0m in \u001b[0;36m<module>\u001b[1;34m\u001b[0m\n\u001b[0;32m      8\u001b[0m \u001b[1;31m#import healpy as hp\u001b[0m\u001b[1;33m\u001b[0m\u001b[1;33m\u001b[0m\u001b[1;33m\u001b[0m\u001b[0m\n\u001b[0;32m      9\u001b[0m \u001b[1;33m\u001b[0m\u001b[0m\n\u001b[1;32m---> 10\u001b[1;33m \u001b[1;32mfrom\u001b[0m \u001b[0mastroquery\u001b[0m\u001b[1;33m.\u001b[0m\u001b[0msimbad\u001b[0m \u001b[1;32mimport\u001b[0m \u001b[0mSimbad\u001b[0m\u001b[1;33m\u001b[0m\u001b[1;33m\u001b[0m\u001b[0m\n\u001b[0m\u001b[0;32m     11\u001b[0m \u001b[1;32mfrom\u001b[0m \u001b[0mastroquery\u001b[0m\u001b[1;33m.\u001b[0m\u001b[0msdss\u001b[0m \u001b[1;32mimport\u001b[0m \u001b[0mSDSS\u001b[0m\u001b[1;33m\u001b[0m\u001b[1;33m\u001b[0m\u001b[0m\n\u001b[0;32m     12\u001b[0m \u001b[1;32mfrom\u001b[0m \u001b[0mastroquery\u001b[0m\u001b[1;33m.\u001b[0m\u001b[0mvizier\u001b[0m \u001b[1;32mimport\u001b[0m \u001b[0mVizier\u001b[0m\u001b[1;33m\u001b[0m\u001b[1;33m\u001b[0m\u001b[0m\n",
      "\u001b[1;31mModuleNotFoundError\u001b[0m: No module named 'astroquery'"
     ]
    }
   ],
   "source": [
    "###### Functions for catalog matching\n",
    "#\n",
    "#\n",
    "# MG; March 2020 - June 2021\n",
    "\n",
    "import numpy as np\n",
    "import pandas as pd\n",
    "#import healpy as hp\n",
    "\n",
    "from astroquery.simbad import Simbad\n",
    "from astroquery.sdss import SDSS\n",
    "from astroquery.vizier import Vizier\n",
    "from astroquery.gaia import Gaia\n",
    "from astropy.table import Table\n",
    "from astropy.io.votable import from_table, writeto\n",
    "from astropy.io import fits\n",
    "from astropy_healpix import HEALPix\n",
    "from astropy import units as u\n",
    "from astropy.coordinates import SkyCoord, Angle, search_around_sky\n",
    "\n",
    "import pyvo as vo\n",
    "\n",
    "from scipy.optimize import curve_fit\n",
    "\n",
    "from astropy.utils.exceptions import AstropyWarning\n",
    "import warnings\n",
    "import time\n",
    "\n",
    "from .plot import plot1d as xplot1d\n",
    "from .plot.plot1d import fixticks\n",
    "from .constants import *\n",
    "\n",
    "\n",
    "\n",
    "#-------------------------------------------------------------------------------------------\n",
    "def fill_match_columns(cat, query, cat_coord, query_coord, max_sep, sep_colname, match_colname, colnames_dict,\n",
    "                       query_cols=['hpidx', 'DET_LIKE_0', 'ML_FLUX_0', 'ML_CTS_0']):\n",
    "    \"\"\" Service function for various matching functions\n",
    "\n",
    "        cat - a dataframe with the user catalog which is being matched with online resource\n",
    "        query - a catalog returned by astroquery (an astropy Table converted to DataFrame)\n",
    "        max_sep - astropy quantity, should be same as used in astroquery query\n",
    "\n",
    "        Firstly, match cat and query catalogs, find all pairs with separatioin <max_sep\n",
    "        Then two operations are done: \n",
    "\n",
    "        1. For each source in cat find the closest match in query; fill columns in cat with match results.\n",
    "           The following columns will be added to cat:\n",
    "            columns ra_match/dec_match with the coordinates of the closest match\n",
    "            column with separation which name is given by sep_colname string (e.g. sep_simb)\n",
    "            boolean column whether there is a match, column name is defined by match_colname string (e.g. simb)\n",
    "            columns defined by the dictionary match_dict={catcol:querycol,...}\n",
    "           \n",
    "        2. For each source in the query table find the nearest source in cat table and \n",
    "           add corresponding columns to the query table, characterising the cat entry and separation.\n",
    "           The list of cat columns to be added to query table is specified by query_cols argument \n",
    "           + separation column + ra_x/dec_x columns\n",
    "\n",
    "    \"\"\"\n",
    "\n",
    "    ### match cat and query catalogs, find all pairs with separatioin <max_sep\n",
    "    ic,iq,sep,dist = search_around_sky(cat_coord, query_coord, max_sep)\n",
    "    match=pd.DataFrame({'ic':ic, 'iq':iq, 'sep':sep.to('arcsec').value})\n",
    "    \n",
    "    ### for each source in cat find nearest matches in query\n",
    "    idx=match.groupby(['ic']).sep.idxmin().values\n",
    "    icat=match.loc[idx,'ic'].values\n",
    "    iquery=match.loc[idx,'iq'].values\n",
    "    sepc=match.loc[idx,'sep'].values\n",
    "\n",
    "    cat[sep_colname]=None\n",
    "    cat.iloc[icat, cat.columns.get_loc(sep_colname)]=sepc\n",
    "    cat[match_colname]=False\n",
    "    cat.iloc[icat,cat.columns.get_loc(match_colname)]=True\n",
    "    cat['ra_match']=np.nan\n",
    "    cat.iloc[icat, cat.columns.get_loc('ra_match')]=query_coord[iquery].ra.value\n",
    "    cat['dec_match']=np.nan\n",
    "    cat.iloc[icat, cat.columns.get_loc('dec_match')]=query_coord[iquery].dec.value\n",
    "    for catcol,querycol in colnames_dict.items():\n",
    "        cat[catcol]=None\n",
    "        cat.iloc[icat, cat.columns.get_loc(catcol)] = query.iloc[iquery, query.columns.get_loc(querycol)].values\n",
    "\n",
    "        \n",
    "    ### for each source in query find nearest source in cat\n",
    "    idx=match.groupby(['iq']).sep.idxmin().values\n",
    "    icat=match.loc[idx,'ic'].values\n",
    "    iquery=match.loc[idx,'iq'].values\n",
    "    sepc=match.loc[idx,'sep'].values\n",
    "\n",
    "    query['sep']=None\n",
    "    query.iloc[iquery, query.columns.get_loc('sep')]=sepc\n",
    "    query['ra_x']=None\n",
    "    query.iloc[iquery, query.columns.get_loc('ra_x')]=cat_coord[icat].ra.value\n",
    "    query['dec_x']=None\n",
    "    query.iloc[iquery, query.columns.get_loc('dec_x')]=cat_coord[icat].dec.value\n",
    "    for col in query_cols: \n",
    "        query[col]=None\n",
    "        try:\n",
    "            query.iloc[iquery, query.columns.get_loc(col)] = cat.iloc[icat, cat.columns.get_loc(col)].values\n",
    "        except:\n",
    "            pass\n",
    "    # clean up query catalog - leave only sources having cat matches with max_sep\n",
    "    # this has effect only for region based queries\n",
    "    query=query.iloc[iquery].copy()\n",
    "\n",
    "    return cat, query\n",
    "\n",
    "#-------------------------------------------------------------------------------------------\n",
    "def match_gaia(cat, match_r, ra_colname='RA', dec_colname='DEC', \n",
    "                sep_colname='sep_gaia', match_colname='gaia', \n",
    "                colnames_dict={},\n",
    "                prlx_sn_min=5):\n",
    "    \"\"\" Match catalog cat with GAIA\n",
    "    \n",
    "        A GAIA Tap job will be launched on all sources in cat.\n",
    "        \n",
    "        only the first nearest match within match_r is returned for each entry in cat\n",
    "        match radius is match_r [arcsec]\n",
    "        \n",
    "        cat - pandas dataFrame\n",
    "        ra_col, dec_col - str, names of the columns in cat containing RA and DEC\n",
    "        \n",
    "        prlx_sn_min - minimal S/N for GAIA parallax and proper motion to be called statsitically significant \n",
    "\n",
    "        the following columns will be added to cat:\n",
    "            column with separation which name is given by sep_colname string (e.g. sep_gaia)\n",
    "            boolean column whether there is a match, column name is defined by match_colname string (e.g. gaia)\n",
    "            default set of coulmns + gaia_star column +\n",
    "            columns defined by the dictionary colnames_dict={catcol:querycol,...}\n",
    "            \n",
    "        returns: catalog cat with added columns desciribing matches\n",
    "                 and full result of TAP query  converted to pandas dataframe\n",
    "    \"\"\"\n",
    "\n",
    "    sn_min=prlx_sn_min\n",
    "    cat=cat.copy(deep=True)\n",
    "\n",
    "    ### ra/dec of the sources\n",
    "    ra,dec = cat[ra_colname].values, cat[dec_colname].values\n",
    "    \n",
    "    ### prepare VO table with coordinates of SRGz objects\n",
    "    radec_table=Table([ra, dec], names=('RA','DEC'))\n",
    "    radec_vo_table = from_table(radec_table)\n",
    "    table4tap_fn=\"match_gaia_tmp.xml\"\n",
    "    writeto(radec_vo_table, table4tap_fn)\n",
    "\n",
    "    ### launch TAP job\n",
    "    match_r_degree=match_r*(1.0/3600.)\n",
    "    tap_job = Gaia.launch_job_async(query=f\"\"\"\n",
    "        SELECT * , distance(\n",
    "            POINT('ICRS', mt.ra, mt.dec),\n",
    "            POINT('ICRS', gaia.ra, gaia.dec)) AS dist\n",
    "        FROM gaiaedr3.gaia_source AS gaia, tap_upload.radec_table AS mt\n",
    "        WHERE 1=CONTAINS(\n",
    "            POINT('ICRS', mt.ra, mt.dec),\n",
    "            CIRCLE('ICRS', gaia.ra, gaia.dec, {match_r_degree}))\"\"\", \n",
    "        upload_resource=table4tap_fn, upload_table_name=\"radec_table\", verbose=True)\n",
    "    query = tap_job.get_results()\n",
    "\n",
    "    ### prepare columns\n",
    "    query['prlx_sn']=query['parallax_over_error']\n",
    "    query['pmra_sn']=abs(query['pmra'])/query['pmra_error']\n",
    "    query['pmdec_sn']=abs(query['pmdec'])/query['pmdec_error']\n",
    "    \n",
    "    colnames_dict0={'ra_gaia':'ra', 'dec_gaia':'dec'}\n",
    "    gaia_cols= ['source_id',\n",
    "                'phot_g_mean_mag', 'phot_g_mean_flux_over_error', 'phot_bp_mean_mag', 'phot_bp_mean_flux_over_error',\n",
    "                'phot_rp_mean_mag', 'phot_rp_mean_flux_over_error',\n",
    "                'parallax', 'parallax_error', 'prlx_sn', 'pmra', 'pmra_error', 'pmdec','pmdec_error','pmra_sn', 'pmdec_sn']\n",
    "    for s in gaia_cols:\n",
    "        colnames_dict0.update({s:s})\n",
    "    colnames_dict={**colnames_dict0, **colnames_dict}\n",
    "    print(colnames_dict)\n",
    "    \n",
    "    ### match query results with cat and fill respective columns\n",
    "    query=query.to_pandas()\n",
    "    query_coord=SkyCoord(query['ra'].values, query['dec'].values, frame='fk5', unit=u.degree)\n",
    "    cat_coord=SkyCoord(ra, dec, frame='fk5', unit=u.degree)    \n",
    "    cat,query = fill_match_columns(cat, query, cat_coord, query_coord, Angle(match_r, 'arcsec'), \n",
    "                       sep_colname, match_colname, colnames_dict)\n",
    "          \n",
    "    ### form gaia_star column \n",
    "    cond_star=(cat.gaia) & ((cat.prlx_sn>sn_min) | (cat.pmra_sn>sn_min) | (cat.pmdec_sn>sn_min))\n",
    "    cat['gaia_star']=np.where(cond_star, True, False)\n",
    "    \n",
    "    ### print summary of GAIA matches\n",
    "    mask_prlx=query['prlx_sn']>sn_min\n",
    "    mask_pmra=query['pmra_sn']>sn_min\n",
    "    mask_pmdec=query['pmdec_sn']>sn_min      \n",
    "    mask_star=mask_prlx | mask_pmra | mask_pmdec\n",
    "    print(f\"\\nSummary of GAIA matches: \\\n",
    "        \\ninput catalog: {len(cat)} records \\\n",
    "        \\nGAIA sources within {match_r} arcsec from X-ray source: {len(query)} \\\n",
    "        \\nof them stars: {len(query[mask_star])} of which: \\\n",
    "        with parallax: {len(query[mask_prlx])}\\\n",
    "        with pmRA: {len(query[mask_pmra])} \\\n",
    "        with pmDEC: {len(query[mask_pmdec])} \\\n",
    "        \\nX-ray sources with GAIA matches: {len(cat[cat.gaia])}\\\n",
    "        \\nof them stars: {len(cat[cat.gaia_star])} of which: \\\n",
    "        with parallax: {len(cat[cat.prlx_sn>sn_min])}\\\n",
    "        with pmRA: {len(cat[cat.pmra_sn>sn_min])} \\\n",
    "        with pmDEC: {len(cat[cat.pmdec_sn>sn_min])}\")\n",
    "    \n",
    "          \n",
    "    return cat, query\n",
    "\n",
    "#-------------------------------------------------------------------------------------------\n",
    "def split_gaia_query(match_r, cat_tot, ra_colname, dec_colname, nl=100000):\n",
    "    \"\"\" \n",
    "    Split a large dataframe into bits and run GAIA query for each bit\n",
    "    Concatenate all outputs and return a single dataframe as a result\n",
    "    \"\"\"\n",
    "    \n",
    "    query_tot=pd.DataFrame()\n",
    "    for i in range(0, len(cat_tot), nl):\n",
    "        print(i,i+nl)\n",
    "        cat=cat_tot.iloc[i:i+nl]\n",
    "        print(len(cat),nl)\n",
    "        \n",
    "        ### ra/dec of the sources\n",
    "        ra,dec = cat[ra_colname].values, cat[dec_colname].values\n",
    "    \n",
    "        ### prepare VO table with coordinates of SRGz objects\n",
    "        radec_table=Table([ra, dec], names=('RA','DEC'))\n",
    "        radec_vo_table = from_table(radec_table)\n",
    "        table4tap_fn=\"match_gaia_tmp.xml\"\n",
    "        writeto(radec_vo_table, table4tap_fn)\n",
    "\n",
    "        ### launch TAP job\n",
    "        match_r_degree=match_r*(1.0/3600.)\n",
    "        tap_job = Gaia.launch_job_async(query=f\"\"\"\n",
    "            SELECT * , distance(\n",
    "                POINT('ICRS', mt.ra, mt.dec),\n",
    "                POINT('ICRS', gaia.ra, gaia.dec)) AS dist\n",
    "            FROM gaiaedr3.gaia_source AS gaia, tap_upload.radec_table AS mt\n",
    "            WHERE 1=CONTAINS(\n",
    "                POINT('ICRS', mt.ra, mt.dec),\n",
    "                CIRCLE('ICRS', gaia.ra, gaia.dec, {match_r_degree}))\"\"\", \n",
    "            upload_resource=table4tap_fn, upload_table_name=\"radec_table\", verbose=True)\n",
    "        query = tap_job.get_results()\n",
    "        query=query.to_pandas()\n",
    "        query_tot=query_tot.append(query)\n",
    "    \n",
    "    return query_tot\n",
    "#-------------------------------------------------------------------------------------------\n",
    "def match_gaia_split(cat, match_r, ra_colname='RA', dec_colname='DEC', \n",
    "                sep_colname='sep_gaia', match_colname='gaia', \n",
    "                colnames_dict={},\n",
    "                prlx_sn_min=5, nl=100000):\n",
    "    \"\"\" Match catalog cat with GAIA\n",
    "    \n",
    "        A GAIA Tap job will be launched on all sources in cat.\n",
    "        using split_gaia_query (split catalog cat into chunks and run query for each chunck, then concatenate the result)\n",
    "\n",
    "        only the first nearest match within match_r is returned for each entry in cat\n",
    "        match radius is match_r [arcsec]\n",
    "        \n",
    "        cat - pandas dataFrame\n",
    "        ra_col, dec_col - str, names of the columns in cat containing RA and DEC\n",
    "        \n",
    "        prlx_sn_min - minimal S/N for GAIA parallax and proper motion to be called statsitically significant \n",
    "\n",
    "        the following columns will be added to cat:\n",
    "            column with separation which name is given by sep_colname string (e.g. sep_gaia)\n",
    "            boolean column whether there is a match, column name is defined by match_colname string (e.g. gaia)\n",
    "            default set of coulmns + gaia_star column +\n",
    "            columns defined by the dictionary colnames_dict={catcol:querycol,...}\n",
    "            \n",
    "        returns: catalog cat with added columns desciribing matches\n",
    "                 and full result of TAP query  converted to pandas dataframe\n",
    "    \"\"\"\n",
    "\n",
    "    sn_min=prlx_sn_min\n",
    "    cat=cat.copy(deep=True)\n",
    "    ra,dec = cat[ra_colname].values, cat[dec_colname].values\n",
    "\n",
    "    ### split query GAIA\n",
    "    query=split_gaia_query(match_r, cat, ra_colname, dec_colname, nl=nl)\n",
    "\n",
    "    ### prepare columns\n",
    "    query['prlx_sn']=query['parallax_over_error']\n",
    "    query['pmra_sn']=abs(query['pmra'])/query['pmra_error']\n",
    "    query['pmdec_sn']=abs(query['pmdec'])/query['pmdec_error']\n",
    "    \n",
    "    colnames_dict0={'ra_gaia':'ra', 'dec_gaia':'dec'}\n",
    "    gaia_cols= ['source_id',\n",
    "                'phot_g_mean_mag', 'phot_g_mean_flux_over_error', 'phot_bp_mean_mag', 'phot_bp_mean_flux_over_error',\n",
    "                'phot_rp_mean_mag', 'phot_rp_mean_flux_over_error',\n",
    "                'parallax', 'parallax_error', 'prlx_sn', 'pmra', 'pmra_error', 'pmdec','pmdec_error','pmra_sn', 'pmdec_sn']\n",
    "    for s in gaia_cols:\n",
    "        colnames_dict0.update({s:s})\n",
    "    colnames_dict={**colnames_dict0, **colnames_dict}\n",
    "    print(colnames_dict)\n",
    "    \n",
    "    ### match query results with cat and fill respective columns\n",
    "    query_coord=SkyCoord(query['ra'].values, query['dec'].values, frame='fk5', unit=u.degree)\n",
    "    cat_coord=SkyCoord(ra, dec, frame='fk5', unit=u.degree)    \n",
    "    cat,query = fill_match_columns(cat, query, cat_coord, query_coord, Angle(match_r, 'arcsec'), \n",
    "                       sep_colname, match_colname, colnames_dict)\n",
    "          \n",
    "    ### form gaia_star column \n",
    "    cond_star=(cat.gaia) & ((cat.prlx_sn>sn_min) | (cat.pmra_sn>sn_min) | (cat.pmdec_sn>sn_min))\n",
    "    cat['gaia_star']=np.where(cond_star, True, False)\n",
    "    \n",
    "    ### print summary of GAIA matches\n",
    "    mask_prlx=query['prlx_sn']>sn_min\n",
    "    mask_pmra=query['pmra_sn']>sn_min\n",
    "    mask_pmdec=query['pmdec_sn']>sn_min      \n",
    "    mask_star=mask_prlx | mask_pmra | mask_pmdec\n",
    "    print(f\"\\nSummary of GAIA matches: \\\n",
    "        \\ninput catalog: {len(cat)} records \\\n",
    "        \\nGAIA sources within {match_r} arcsec from X-ray source: {len(query)} \\\n",
    "        \\nof them stars: {len(query[mask_star])} of which: \\\n",
    "        with parallax: {len(query[mask_prlx])}\\\n",
    "        with pmRA: {len(query[mask_pmra])} \\\n",
    "        with pmDEC: {len(query[mask_pmdec])} \\\n",
    "        \\nX-ray sources with GAIA matches: {len(cat[cat.gaia])}\\\n",
    "        \\nof them stars: {len(cat[cat.gaia_star])} of which: \\\n",
    "        with parallax: {len(cat[cat.prlx_sn>sn_min])}\\\n",
    "        with pmRA: {len(cat[cat.pmra_sn>sn_min])} \\\n",
    "        with pmDEC: {len(cat[cat.pmdec_sn>sn_min])}\")\n",
    "    \n",
    "          \n",
    "    return cat, query\n"
   ]
  },
  {
   "cell_type": "code",
   "execution_count": 2,
   "metadata": {},
   "outputs": [],
   "source": [
    "from astropy.io import fits\n",
    "import numpy as np\n",
    "import pandas as pd\n",
    "import matplotlib.pyplot as plt\n",
    "import os \n",
    "from astropy.table import Table"
   ]
  },
  {
   "cell_type": "code",
   "execution_count": 3,
   "metadata": {},
   "outputs": [
    {
     "name": "stderr",
     "output_type": "stream",
     "text": [
      "C:\\Users\\gamak\\anaconda3\\lib\\site-packages\\IPython\\core\\interactiveshell.py:3343: TableReplaceWarning: converted column 'phot_bp_n_contaminated_transits' from integer to float\n",
      "  exec(code_obj, self.user_global_ns, self.user_ns)\n",
      "C:\\Users\\gamak\\anaconda3\\lib\\site-packages\\IPython\\core\\interactiveshell.py:3343: TableReplaceWarning: converted column 'phot_bp_n_blended_transits' from integer to float\n",
      "  exec(code_obj, self.user_global_ns, self.user_ns)\n"
     ]
    }
   ],
   "source": [
    "Gm20_file = 'e:\\\\Observations\\\\Gaia_m20-result.fits'\n",
    "Gm20 = Table.to_pandas(Table.read(Gm20_file, format='fits'))\n",
    "nGm20 =np.array(Gm20)"
   ]
  },
  {
   "cell_type": "code",
   "execution_count": 24,
   "metadata": {},
   "outputs": [],
   "source": [
    "def correl_func(arr, ra, dec, tol2):\n",
    "    r2 = (arr[:,5] - ra)**2 + (arr[:,7] - dec)**2\n",
    "    ii = r2 <= tol2\n",
    "    return ii\n",
    "   "
   ]
  },
  {
   "cell_type": "code",
   "execution_count": 4,
   "metadata": {},
   "outputs": [],
   "source": [
    "ra = np.empty(300000)\n",
    "dec = np.empty(300000)\n",
    "tol = 1\n",
    "tol2 = tol*tol/3600.0/3600.0 # radius in square"
   ]
  },
  {
   "cell_type": "code",
   "execution_count": 29,
   "metadata": {},
   "outputs": [],
   "source": [
    "import multiprocessing as mp\n",
    "\n",
    "# Step 1: Init multiprocessing.Pool()\n",
    "pool = mp.Pool(mp.cpu_count())"
   ]
  },
  {
   "cell_type": "code",
   "execution_count": null,
   "metadata": {},
   "outputs": [],
   "source": [
    "pool.apply(correl_func, args = (nGm20,355.654,21.6511, tol2))"
   ]
  },
  {
   "cell_type": "code",
   "execution_count": 6,
   "metadata": {},
   "outputs": [],
   "source": [
    "Gp20_file = 'e:\\\\Observations\\\\Gaia_p20-result.fits'\n",
    "dat = Table.read(Gp20_file, format='fits')\n",
    "Gp20 = dat.to"
   ]
  },
  {
   "cell_type": "code",
   "execution_count": null,
   "metadata": {},
   "outputs": [
    {
     "name": "stderr",
     "output_type": "stream",
     "text": [
      "WARNING: VerifyWarning: Invalid keyword for column 4: Column disp option (TDISPn) failed verification: Format J is not recognized. The invalid value will be ignored for the purpose of formatting the data in this column. [astropy.io.fits.column]\n",
      "WARNING: VerifyWarning: Invalid keyword for column 5: Column disp option (TDISPn) failed verification: Format J is not recognized. The invalid value will be ignored for the purpose of formatting the data in this column. [astropy.io.fits.column]\n"
     ]
    }
   ],
   "source": [
    "L_file = 'e:\\\\Observations\\\\dr5_stellar.fits'\n",
    "L = Table.to_pandas(Table.read(L_file, format='fits'))\n",
    "nL = np.array(L)"
   ]
  },
  {
   "cell_type": "code",
   "execution_count": 4,
   "metadata": {},
   "outputs": [],
   "source": [
    "nGm20=pd.DataFrame(Gm20).to_numpy()"
   ]
  },
  {
   "cell_type": "code",
   "execution_count": 5,
   "metadata": {},
   "outputs": [],
   "source": [
    "nL=pd.DataFrame(L).to_numpy()"
   ]
  },
  {
   "cell_type": "code",
   "execution_count": 6,
   "metadata": {},
   "outputs": [],
   "source": [
    "ra = np.empty(300000)\n",
    "dec = np.empty(300000)\n",
    "tol = 1\n",
    "tol2 = tol*tol/3600.0/3600.0 # radius in square"
   ]
  },
  {
   "cell_type": "code",
   "execution_count": 7,
   "metadata": {},
   "outputs": [],
   "source": [
    "from time import gmtime, strftime\n",
    "#strftime(\"%H:%M:%S\", gmtime())"
   ]
  },
  {
   "cell_type": "code",
   "execution_count": 1,
   "metadata": {},
   "outputs": [
    {
     "ename": "NameError",
     "evalue": "name 'strftime' is not defined",
     "output_type": "error",
     "traceback": [
      "\u001b[1;31m---------------------------------------------------------------------------\u001b[0m",
      "\u001b[1;31mNameError\u001b[0m                                 Traceback (most recent call last)",
      "\u001b[1;32m<ipython-input-1-e9a7f0ed1b39>\u001b[0m in \u001b[0;36m<module>\u001b[1;34m\u001b[0m\n\u001b[1;32m----> 1\u001b[1;33m \u001b[0mstrftime\u001b[0m\u001b[1;33m(\u001b[0m\u001b[1;34m\"%H:%M:%S\"\u001b[0m\u001b[1;33m,\u001b[0m \u001b[0mgmtime\u001b[0m\u001b[1;33m(\u001b[0m\u001b[1;33m)\u001b[0m\u001b[1;33m)\u001b[0m\u001b[1;33m\u001b[0m\u001b[1;33m\u001b[0m\u001b[0m\n\u001b[0m",
      "\u001b[1;31mNameError\u001b[0m: name 'strftime' is not defined"
     ]
    }
   ],
   "source": [
    "strftime(\"%H:%M:%S\", gmtime())"
   ]
  },
  {
   "cell_type": "code",
   "execution_count": 8,
   "metadata": {},
   "outputs": [],
   "source": [
    "index=range(300000)\n",
    "columns = ['ra','dec','class', 'subclass', 'magtype', 'mag1', 'mag2', \n",
    "           'mag3', 'mag4', 'mag5', 'mag6', 'mag7', 'teff', 'teff_err',\n",
    "           'logg', 'logg_err', 'feh', 'feh_err', 'rv', 'rv_err',\n",
    "           'parallax', 'parallax_error', 'phot_g_mean_mag','phot_bp_mean_mag','phot_rp_mean_mag',\n",
    "           'dr2_radial_velocity', 'dr2_radial_velocity_error',\n",
    "           'dr2_rv_nb_transits', 'dr2_rv_template_teff', 'dr2_rv_template_logg',\n",
    "           'dr2_rv_template_fe_h', 'l', 'b']\n",
    "fin_table = pd.DataFrame(index=index, columns=columns)"
   ]
  },
  {
   "cell_type": "code",
   "execution_count": null,
   "metadata": {},
   "outputs": [],
   "source": []
  },
  {
   "cell_type": "code",
   "execution_count": null,
   "metadata": {},
   "outputs": [],
   "source": [
    "for j in range(nL.shape[0]):\n",
    "    if kk < 1000:\n",
    "        i = pool.apply(correl_func, args=(nGm20,nL[j,34],nL[j,35], tol2, m)) \n",
    "        if any(i) is True:\n",
    "            kk=kk+1\n",
    "            for k in range(len(columns)):\n",
    "                if k < 20:\n",
    "                    fin_table[columns[k]][j] = L[columns[k]][np.where(i)[0][0]] \n",
    "                else:\n",
    "                    fin_table[columns[k]][j] = Gm20[columns[k]][j]\n",
    "        if (j/600.-np.fix(j/600.)) == 0:\n",
    "            print(j,kk,strftime(\"%H:%M:%S\", gmtime()))\n",
    "    else:\n",
    "        break        "
   ]
  },
  {
   "cell_type": "code",
   "execution_count": 11,
   "metadata": {},
   "outputs": [
    {
     "name": "stdout",
     "output_type": "stream",
     "text": [
      "0 0 16:24:35\n",
      "600 20 16:28:16\n",
      "1200 38 16:31:56\n",
      "1800 58 16:35:42\n",
      "2400 69 16:39:25\n",
      "3000 104 16:43:13\n",
      "3600 146 16:47:15\n"
     ]
    },
    {
     "ename": "KeyboardInterrupt",
     "evalue": "",
     "output_type": "error",
     "traceback": [
      "\u001b[1;31m---------------------------------------------------------------------------\u001b[0m",
      "\u001b[1;31mKeyboardInterrupt\u001b[0m                         Traceback (most recent call last)",
      "\u001b[1;32m<ipython-input-11-e3accd016b8c>\u001b[0m in \u001b[0;36m<module>\u001b[1;34m\u001b[0m\n\u001b[0;32m      5\u001b[0m         \u001b[0mr2\u001b[0m \u001b[1;33m=\u001b[0m \u001b[1;33m(\u001b[0m\u001b[0mnL\u001b[0m\u001b[1;33m[\u001b[0m\u001b[0mj\u001b[0m\u001b[1;33m,\u001b[0m\u001b[1;36m34\u001b[0m\u001b[1;33m]\u001b[0m \u001b[1;33m-\u001b[0m \u001b[0mnGm20\u001b[0m\u001b[1;33m[\u001b[0m\u001b[1;33m:\u001b[0m\u001b[1;33m,\u001b[0m\u001b[1;36m5\u001b[0m\u001b[1;33m]\u001b[0m\u001b[1;33m)\u001b[0m\u001b[1;33m**\u001b[0m\u001b[1;36m2\u001b[0m \u001b[1;33m+\u001b[0m \u001b[1;33m(\u001b[0m\u001b[0mnL\u001b[0m\u001b[1;33m[\u001b[0m\u001b[0mj\u001b[0m\u001b[1;33m,\u001b[0m\u001b[1;36m35\u001b[0m\u001b[1;33m]\u001b[0m \u001b[1;33m-\u001b[0m \u001b[0mnGm20\u001b[0m\u001b[1;33m[\u001b[0m\u001b[1;33m:\u001b[0m\u001b[1;33m,\u001b[0m\u001b[1;36m7\u001b[0m\u001b[1;33m]\u001b[0m\u001b[1;33m)\u001b[0m\u001b[1;33m**\u001b[0m\u001b[1;36m2\u001b[0m\u001b[1;33m\u001b[0m\u001b[1;33m\u001b[0m\u001b[0m\n\u001b[0;32m      6\u001b[0m         \u001b[1;31m#print(1,strftime(\"%H:%M:%S\", gmtime()))\u001b[0m\u001b[1;33m\u001b[0m\u001b[1;33m\u001b[0m\u001b[1;33m\u001b[0m\u001b[0m\n\u001b[1;32m----> 7\u001b[1;33m         \u001b[0mi\u001b[0m \u001b[1;33m=\u001b[0m \u001b[0mr2\u001b[0m \u001b[1;33m<=\u001b[0m \u001b[0mtol2\u001b[0m\u001b[1;33m\u001b[0m\u001b[1;33m\u001b[0m\u001b[0m\n\u001b[0m\u001b[0;32m      8\u001b[0m         \u001b[1;31m#print(2,strftime(\"%H:%M:%S\", gmtime()))\u001b[0m\u001b[1;33m\u001b[0m\u001b[1;33m\u001b[0m\u001b[1;33m\u001b[0m\u001b[0m\n\u001b[0;32m      9\u001b[0m         \u001b[1;32mif\u001b[0m \u001b[0many\u001b[0m\u001b[1;33m(\u001b[0m\u001b[0mi\u001b[0m\u001b[1;33m)\u001b[0m \u001b[1;32mis\u001b[0m \u001b[1;32mTrue\u001b[0m\u001b[1;33m:\u001b[0m\u001b[1;33m\u001b[0m\u001b[1;33m\u001b[0m\u001b[0m\n",
      "\u001b[1;31mKeyboardInterrupt\u001b[0m: "
     ]
    }
   ],
   "source": [
    "kk = 0 \n",
    "for j in range(nL.shape[0]):\n",
    "    if kk < 1000:\n",
    "\n",
    "        \n",
    "        r2 = (nL[j,34] - nGm20[:,5])**2 + (nL[j,35] - nGm20[:,7])**2\n",
    "        i = r2 <= tol2\n",
    "        if any(i) is True:\n",
    "            kk=kk+1\n",
    "            for k in range(len(columns)):\n",
    "                if k < 20:\n",
    "                    fin_table[columns[k]][j] = L[columns[k]][np.where(i)[0][0]] \n",
    "                else:\n",
    "                    fin_table[columns[k]][j] = Gm20[columns[k]][j]\n",
    "\n",
    "def correl_func(arr, ra, dec, tol2):\n",
    "    r2 = (arr[:,5] - ra)**2 + (arr[:,7] - dec)**2\n",
    "    i = r2 <= tol2\n",
    "    return i\n",
    "\n",
    "        #print(kk,strftime(\"%H:%M:%S\", gmtime()))\n",
    "#            ra[k] = nL[np.where(i)[0][0],34]\n",
    "#           dec[k] = nL[np.where(i)[0][0],35]\n",
    "#            k=k+1\n",
    "        if (j/600.-np.fix(j/600.)) == 0:\n",
    "            print(j,kk,strftime(\"%H:%M:%S\", gmtime()))\n",
    "        #print('End of cycle')\n",
    "    else:\n",
    "        break\n",
    "        "
   ]
  },
  {
   "cell_type": "code",
   "execution_count": 12,
   "metadata": {},
   "outputs": [
    {
     "name": "stdout",
     "output_type": "stream",
     "text": [
      "Number of processors:  4\n"
     ]
    }
   ],
   "source": [
    "import multiprocessing as mp\n",
    "print(\"Number of processors: \", mp.cpu_count())"
   ]
  },
  {
   "cell_type": "code",
   "execution_count": 115,
   "metadata": {},
   "outputs": [],
   "source": [
    "c1 = fits.Column(name='ra', array=ra, format='E')\n",
    "c2 = fits.Column(name='dec', array=dec, format='E')\n",
    "cols = fits.ColDefs([c1, c2])\n",
    "hdu = fits.BinTableHDU.from_columns(cols)\n",
    "hdu.writeto('e:\\\\Observations\\\\Coordinates.fits')"
   ]
  },
  {
   "cell_type": "code",
   "execution_count": 119,
   "metadata": {},
   "outputs": [],
   "source": [
    "corel=pd.read_csv('e:\\\\Observations\\\\match_lamost_s123.csv')"
   ]
  },
  {
   "cell_type": "code",
   "execution_count": 167,
   "metadata": {},
   "outputs": [],
   "source": [
    "for j in range(corel.shape[0]):\n",
    "    r2 = (nL[:,34] - corel['ra'][j])**2 + (nL[:,35] - corel['dec'][j])**2\n",
    "    i = r2 <= tol2\n",
    "    r1 = (nGm20[:,5] - corel['ra'][j])**2 + (nGm20[:,7] - corel['dec'][j])**2\n",
    "    m = r1 <= tol2    \n",
    "    if any(i) is True:\n",
    "        for k in range(len(columns)):\n",
    "            if k < 20:\n",
    "                fin_table[columns[k]][j] = L[columns[k]][np.where(i)[0][0]] \n",
    "            else:\n",
    "                fin_table[columns[k]][j] = Gm20[columns[k]][np.where(m)[0][0]]\n",
    "            "
   ]
  },
  {
   "cell_type": "code",
   "execution_count": 175,
   "metadata": {},
   "outputs": [],
   "source": [
    "fin_table=fin_table.sort_values('teff',na_position='last')"
   ]
  },
  {
   "cell_type": "code",
   "execution_count": 199,
   "metadata": {},
   "outputs": [
    {
     "data": {
      "image/png": "[encoded data removed]",
      "text/plain": [
       "<Figure size 1152x1728 with 6 Axes>"
      ]
     },
     "metadata": {
      "needs_background": "light"
     },
     "output_type": "display_data"
    }
   ],
   "source": [
    "fig=plt.figure(figsize=(16,24))\n",
    "plt.subplot(3, 2, 1)\n",
    "plt.scatter(fin_table['phot_g_mean_mag'],corel['ML_FLUX_0_ero'])\n",
    "plt.xlabel('phot_g_mean_mag')\n",
    "plt.ylabel('ML_FLUX_0_ero')\n",
    "plt.subplot(3,2,2)\n",
    "plt.scatter(fin_table['parallax'],corel['ML_FLUX_0_ero'])\n",
    "plt.xlabel('parallax')\n",
    "plt.ylabel('ML_FLUX_0_ero')\n",
    "plt.subplot(3,2,3)\n",
    "plt.scatter(fin_table['teff'],corel['ML_FLUX_0_ero'])\n",
    "plt.xlabel('teff')\n",
    "plt.ylabel('ML_FLUX_0_ero')\n",
    "plt.subplot(3,2,4)\n",
    "plt.scatter(fin_table['subclass'],corel['ML_FLUX_0_ero'])\n",
    "plt.xlabel('subclass')\n",
    "plt.ylabel('ML_FLUX_0_ero')\n",
    "plt.subplot(3,2,5)\n",
    "plt.scatter(fin_table['logg'],corel['ML_FLUX_0_ero'])\n",
    "plt.xlabel('logg')\n",
    "plt.ylabel('ML_FLUX_0_ero')\n",
    "plt.subplot(3,2,6)\n",
    "plt.scatter(fin_table['feh'],corel['ML_FLUX_0_ero'])\n",
    "plt.xlabel('feh')\n",
    "plt.ylabel('ML_FLUX_0_ero')\n",
    "plt.savefig('e:\\\\Observations\\\\figure1.pdf')"
   ]
  },
  {
   "cell_type": "code",
   "execution_count": 198,
   "metadata": {},
   "outputs": [
    {
     "data": {
      "image/png": "[encoded data removed]",
      "text/plain": [
       "<Figure size 1152x1152 with 4 Axes>"
      ]
     },
     "metadata": {
      "needs_background": "light"
     },
     "output_type": "display_data"
    }
   ],
   "source": [
    "fig=plt.figure(figsize=(16,16))\n",
    "plt.subplot(2, 2, 1)\n",
    "plt.scatter(fin_table['teff'],fin_table['dr2_rv_template_teff'])\n",
    "plt.plot(fin_table['teff'],fin_table['teff'])\n",
    "plt.xlabel('LAMOST_teff')\n",
    "plt.ylabel('GAIA_teff')\n",
    "plt.subplot(2, 2, 2)\n",
    "plt.scatter(fin_table['logg'],fin_table['dr2_rv_template_logg'])\n",
    "plt.plot(fin_table['logg'],fin_table['logg'])\n",
    "plt.xlabel('LAMOST_logg')\n",
    "plt.ylabel('GAIA_logg')\n",
    "plt.subplot(2, 2, 3)\n",
    "plt.scatter(fin_table['feh'],fin_table['dr2_rv_template_fe_h'])\n",
    "plt.plot(fin_table['feh'],fin_table['feh'])\n",
    "plt.xlabel('LAMOST_feh')\n",
    "plt.ylabel('GAIA_feh')\n",
    "plt.subplot(2, 2, 4)\n",
    "plt.scatter(fin_table['rv'],fin_table['dr2_radial_velocity'])\n",
    "plt.plot(fin_table['rv'],fin_table['rv'])\n",
    "plt.xlabel('LAMOST_rv')\n",
    "plt.ylabel('GAIA_rv')\n",
    "plt.savefig('e:\\\\Observations\\\\figure2.pdf')"
   ]
  }
 ],
 "metadata": {
  "kernelspec": {
   "display_name": "Python 3",
   "language": "python",
   "name": "python3"
  },
  "language_info": {
   "codemirror_mode": {
    "name": "ipython",
    "version": 3
   },
   "file_extension": ".py",
   "mimetype": "text/x-python",
   "name": "python",
   "nbconvert_exporter": "python",
   "pygments_lexer": "ipython3",
   "version": "3.8.3"
  }
 },
 "nbformat": 4,
 "nbformat_minor": 4
}
