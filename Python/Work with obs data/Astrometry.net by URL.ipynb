{
 "cells": [
  {
   "cell_type": "code",
   "execution_count": 17,
   "id": "b44f3cb3",
   "metadata": {},
   "outputs": [],
   "source": [
    "URL = 'https://www.dropbox.com/s/gx9igusq0na4ths/aj213101.fit?dl=1'"
   ]
  },
  {
   "cell_type": "code",
   "execution_count": 18,
   "id": "ddd7c1bd",
   "metadata": {},
   "outputs": [],
   "source": [
    "import requests\n",
    "import json"
   ]
  },
  {
   "cell_type": "code",
   "execution_count": 36,
   "id": "e28d2a95",
   "metadata": {},
   "outputs": [
    {
     "name": "stdout",
     "output_type": "stream",
     "text": [
      "{\"status\": \"success\", \"message\": \"authenticated user: crucifer.troll@gmail.com\", \"session\": \"xezr6zqi3kt1jfkxlm2eiyybdqz2218l\"}\n"
     ]
    }
   ],
   "source": [
    "R = requests.post('http://nova.astrometry.net/api/login', data={'request-json': json.dumps({\"apikey\": \"gfrgdeojaijcpsli\"})})\n",
    "print(R.text)\n",
    "session = R.text[-34:-2]"
   ]
  },
  {
   "cell_type": "code",
   "execution_count": 74,
   "id": "aa838bce",
   "metadata": {},
   "outputs": [
    {
     "name": "stdout",
     "output_type": "stream",
     "text": [
      "{\"status\": \"success\", \"subid\": 5312061, \"hash\": \"4f87a07b7eed852bb6caa14efd17cc355cd557e7\"}\n"
     ]
    }
   ],
   "source": [
    "R = requests.post('http://nova.astrometry.net/api/url_upload', data={'request-json': json.dumps({\"session\": session, \"url\": URL})})\n",
    "print(R.text)\n",
    "req_id = R.text[31:38]"
   ]
  },
  {
   "cell_type": "code",
   "execution_count": 77,
   "id": "e901c257",
   "metadata": {},
   "outputs": [
    {
     "data": {
      "text/plain": [
       "(<function print>, 'success')"
      ]
     },
     "execution_count": 77,
     "metadata": {},
     "output_type": "execute_result"
    }
   ],
   "source": [
    "print, R.text[12:19]"
   ]
  },
  {
   "cell_type": "code",
   "execution_count": 68,
   "id": "eece167e",
   "metadata": {},
   "outputs": [
    {
     "name": "stdout",
     "output_type": "stream",
     "text": [
      "{\"user\": 13779, \"processing_started\": \"2021-12-12 19:52:03.400204\", \"processing_finished\": \"2021-12-12 19:52:05.172094\", \"user_images\": [5447940], \"images\": [12694328], \"jobs\": [6014754], \"job_calibrations\": []}\n"
     ]
    }
   ],
   "source": [
    "R = requests.post('http://nova.astrometry.net/api/submissions/'+req_id, data={'request-json': json.dumps({\"session\": session})})    \n",
    "print(R.text)\n",
    "jobid = R.text[178:185]"
   ]
  },
  {
   "cell_type": "code",
   "execution_count": 69,
   "id": "ffc91ae2",
   "metadata": {},
   "outputs": [
    {
     "name": "stdout",
     "output_type": "stream",
     "text": [
      "{\"objects_in_field\": [], \"machine_tags\": [], \"tags\": [], \"status\": \"success\", \"original_filename\": \"aj213101.fit\", \"calibration\": {\"ra\": 322.96484962545094, \"dec\": 49.237053767935116, \"radius\": 0.1311344299257648, \"pixscale\": 0.6519800014280186, \"orientation\": 90.30528414023247, \"parity\": -1.0}}\n"
     ]
    }
   ],
   "source": [
    "R = requests.post('http://nova.astrometry.net/api/jobs/'+jobid+'/info/', data={'request-json': json.dumps({\"session\": session})})    \n",
    "print(R.text)"
   ]
  },
  {
   "cell_type": "code",
   "execution_count": 72,
   "id": "3478e93a",
   "metadata": {},
   "outputs": [
    {
     "name": "stdout",
     "output_type": "stream",
     "text": [
      "success\n"
     ]
    }
   ],
   "source": [
    "print(R.text[68:75])"
   ]
  },
  {
   "cell_type": "code",
   "execution_count": 34,
   "id": "32d00477",
   "metadata": {},
   "outputs": [],
   "source": [
    "from requests import get  # to make GET request\n",
    "\n",
    "\n",
    "def download(url, file_name):\n",
    "    # open in binary mode\n",
    "    with open(file_name, \"wb\") as file:\n",
    "        # get request\n",
    "        response = get(url)\n",
    "        # write to file\n",
    "        file.write(response.content)"
   ]
  },
  {
   "cell_type": "code",
   "execution_count": 35,
   "id": "dffe4fd0",
   "metadata": {},
   "outputs": [],
   "source": [
    "download('http://nova.astrometry.net/new_fits_file/'+jobid, 'new_fits.fits')"
   ]
  },
  {
   "cell_type": "code",
   "execution_count": null,
   "id": "2c3bb0f0",
   "metadata": {},
   "outputs": [],
   "source": []
  }
 ],
 "metadata": {
  "kernelspec": {
   "display_name": "Python 3 (ipykernel)",
   "language": "python",
   "name": "python3"
  },
  "language_info": {
   "codemirror_mode": {
    "name": "ipython",
    "version": 3
   },
   "file_extension": ".py",
   "mimetype": "text/x-python",
   "name": "python",
   "nbconvert_exporter": "python",
   "pygments_lexer": "ipython3",
   "version": "3.8.12"
  }
 },
 "nbformat": 4,
 "nbformat_minor": 5
}
