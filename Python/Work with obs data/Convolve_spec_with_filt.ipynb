{
 "cells": [
  {
   "cell_type": "code",
   "execution_count": 1,
   "id": "03b8a1c6",
   "metadata": {},
   "outputs": [],
   "source": [
    "import numpy as np\n",
    "from scipy.integrate import simps\n",
    "from astropy.io import fits\n",
    "import matplotlib.pyplot as plt\n",
    "import os\n",
    "import pandas as pd"
   ]
  },
  {
   "cell_type": "code",
   "execution_count": 67,
   "id": "a28655fe",
   "metadata": {},
   "outputs": [],
   "source": [
    "os.chdir('e:/Observations/BTA/s091021/MTDra/')"
   ]
  },
  {
   "cell_type": "code",
   "execution_count": 32,
   "id": "8e6dceb6",
   "metadata": {},
   "outputs": [],
   "source": [
    "files = [file for file in os.listdir() if ('MTDra' in file) and ('.fts' in file) and ('gauss' not in file)]"
   ]
  },
  {
   "cell_type": "code",
   "execution_count": 73,
   "id": "47c3f0b1",
   "metadata": {},
   "outputs": [],
   "source": [
    "files = [file for file in os.listdir() if 'gauss.fts' in file]"
   ]
  },
  {
   "cell_type": "code",
   "execution_count": 42,
   "id": "2ca769dd",
   "metadata": {},
   "outputs": [
    {
     "data": {
      "text/plain": [
       "['MTDra_204615_gauss.fts',\n",
       " 'MTDra_210459_gauss.fts',\n",
       " 'MTDra_212121_gauss.fts',\n",
       " 'MTDra_213251_gauss.fts',\n",
       " 'MTDra_214825_gauss.fts',\n",
       " 'MTDra_220036_gauss.fts',\n",
       " 'MTDra_221211_gauss.fts',\n",
       " 'MTDra_222525_gauss.fts',\n",
       " 'MTDra_223644_gauss.fts',\n",
       " 'MTDra_225203_gauss.fts',\n",
       " 'MTDra_230504_gauss.fts',\n",
       " 'MTDra_231826_gauss.fts',\n",
       " 'MTDra_233140_gauss.fts',\n",
       " 'MTDra_234509_gauss.fts',\n",
       " 'MTDra_235820_gauss.fts',\n",
       " 'MTDra_241140_gauss.fts',\n",
       " 'MTDra_242459_gauss.fts',\n",
       " 'MTDra_243639_gauss.fts']"
      ]
     },
     "execution_count": 42,
     "metadata": {},
     "output_type": "execute_result"
    }
   ],
   "source": [
    "files"
   ]
  },
  {
   "cell_type": "code",
   "execution_count": 74,
   "id": "b07fdaaa",
   "metadata": {},
   "outputs": [],
   "source": [
    "lamS, fl = np.loadtxt('MTDra_204615.txt', unpack=True)"
   ]
  },
  {
   "cell_type": "code",
   "execution_count": 6,
   "id": "1083f210",
   "metadata": {},
   "outputs": [],
   "source": [
    "lamF_B,filt_B = np.loadtxt('c:/Users/gamak/Documents/Papers/MT_Dra/Bessel_B-1.txt'  ,unpack=True)\n",
    "lamF_g,filt_g = np.loadtxt('c:/Users/gamak/Documents/Papers/MT_Dra/Sloan_g.txt'  ,unpack=True)"
   ]
  },
  {
   "cell_type": "code",
   "execution_count": 7,
   "id": "116d8979",
   "metadata": {},
   "outputs": [
    {
     "data": {
      "text/plain": [
       "[<matplotlib.lines.Line2D at 0x84e0d00>]"
      ]
     },
     "execution_count": 7,
     "metadata": {},
     "output_type": "execute_result"
    },
    {
     "data": {
      "image/png": "[encoded data removed]",
      "text/plain": [
       "<Figure size 432x288 with 1 Axes>"
      ]
     },
     "metadata": {
      "needs_background": "light"
     },
     "output_type": "display_data"
    }
   ],
   "source": [
    "plt.plot(lamF_B*10,filt_B/100)\n",
    "plt.plot(lamF_g*10,filt_g/100)"
   ]
  },
  {
   "cell_type": "code",
   "execution_count": 8,
   "id": "0e626d0a",
   "metadata": {},
   "outputs": [],
   "source": [
    "c_AAs     = 2.99792458e18                          # Speed of light in Angstrom/s"
   ]
  },
  {
   "cell_type": "code",
   "execution_count": 75,
   "id": "79b054b5",
   "metadata": {},
   "outputs": [],
   "source": [
    "del(mags)"
   ]
  },
  {
   "cell_type": "code",
   "execution_count": 76,
   "id": "c2da1f5b",
   "metadata": {},
   "outputs": [],
   "source": [
    "mags = pd.DataFrame(columns=['B','g'])"
   ]
  },
  {
   "cell_type": "code",
   "execution_count": 77,
   "id": "9c0d6f13",
   "metadata": {},
   "outputs": [],
   "source": [
    "for file in files:\n",
    "    spec = fits.getdata(file)\n",
    "    filt_int  = np.interp(lamS,lamF_B*10,filt_B/100)              #Interpolate to common wavelength axis\n",
    "    I1        = simps(spec*filt_int*lamS,lamS)                     #Denominator\n",
    "    I2        = simps(filt_int/lamS,lamS)                     #Numerator\n",
    "    fnu       = I1/I2 / c_AAs                          #Average flux density\n",
    "    mAB       = -2.5*np.log10(fnu) - 48.6              #AB magnitude\n",
    "    filt_int1  = np.interp(lamS,lamF_g*10,filt_g/100)              #Interpolate to common wavelength axis\n",
    "    I3        = simps(spec*filt_int1*lamS,lamS)                     #Denominator\n",
    "    I4        = simps(filt_int1/lamS,lamS)                     #Numerator\n",
    "    fnu1       = I3/I4 / c_AAs                          #Average flux density\n",
    "    mABg       = -2.5*np.log10(fnu1) - 48.6              #AB magnitude\n",
    "    mags = mags.append({'B': mAB,'g': mABg}, ignore_index=True)"
   ]
  },
  {
   "cell_type": "code",
   "execution_count": 78,
   "id": "3ea3d43d",
   "metadata": {},
   "outputs": [],
   "source": [
    "JD = pd.read_csv('../JD.dat',header=None)"
   ]
  },
  {
   "cell_type": "code",
   "execution_count": 79,
   "id": "04f79e49",
   "metadata": {},
   "outputs": [],
   "source": [
    "phase = pd.read_csv('../phase_all.dat', header=None)"
   ]
  },
  {
   "cell_type": "code",
   "execution_count": 97,
   "id": "c0e11d72",
   "metadata": {},
   "outputs": [],
   "source": [
    "def my_plotter(ax, data1, data2, param_dict):\n",
    "    \"\"\"\n",
    "    A helper function to make a graph.\n",
    "    \"\"\"\n",
    "    out = ax.plot(data1, data2, **param_dict)\n",
    "    return out"
   ]
  },
  {
   "cell_type": "code",
   "execution_count": 149,
   "id": "613ac775",
   "metadata": {},
   "outputs": [
    {
     "data": {
      "text/plain": [
       "<matplotlib.legend.Legend at 0x12fb9d60>"
      ]
     },
     "execution_count": 149,
     "metadata": {},
     "output_type": "execute_result"
    },
    {
     "data": {
      "image/png": "[encoded data removed]",
      "text/plain": [
       "<Figure size 432x432 with 1 Axes>"
      ]
     },
     "metadata": {
      "needs_background": "light"
     },
     "output_type": "display_data"
    }
   ],
   "source": [
    "fig, ax = plt.subplots(figsize=(6,6))\n",
    "ax.plot(phase,mags.g,'.b', label='B')\n",
    "ax.plot(phase_phot,phot.cv,'.g', label='V')\n",
    "ax.plot(phase,mags.g-.9,'.r', label='B-0.9')\n",
    "ax.set_ylim(18.6,16.6)\n",
    "ax.set_xlabel('Phase', size=12)\n",
    "ax.set_ylabel('Magnitude', size=12)\n",
    "ax.tick_params(direction='in')\n",
    "ax.legend(loc='upper right')"
   ]
  },
  {
   "cell_type": "code",
   "execution_count": 69,
   "id": "d323d794",
   "metadata": {},
   "outputs": [],
   "source": [
    "phot = pd.read_csv('../MTDra_phot/phot.txt')"
   ]
  },
  {
   "cell_type": "code",
   "execution_count": 72,
   "id": "1edc675d",
   "metadata": {},
   "outputs": [],
   "source": [
    "phase_phot = pd.read_csv('../MTDra_phot/phase_all.dat', header=None)"
   ]
  },
  {
   "cell_type": "code",
   "execution_count": 168,
   "id": "5b88f713",
   "metadata": {},
   "outputs": [],
   "source": [
    "def my_plot(ax, data,  ymin, ymax, fsize=6, xtit='x_title', ytit='y_title'):\n",
    "    fig, ax = plt.subplots(figsize=(fsize,fsize))\n",
    "    out = ax.plot(data[0],data[1],'.b', label='B')\n",
    "    ax.set_ylim(ymax,ymin)\n",
    "    ax.set_xlabel(xtit, size=12)\n",
    "    ax.set_ylabel(ytit, size=12)\n",
    "    ax.tick_params(direction='in')\n",
    "    ax.legend(loc='upper right')\n",
    "    return out"
   ]
  },
  {
   "cell_type": "code",
   "execution_count": 172,
   "id": "6f1b52c8",
   "metadata": {},
   "outputs": [
    {
     "data": {
      "text/plain": [
       "[<matplotlib.lines.Line2D at 0x1309daf0>]"
      ]
     },
     "execution_count": 172,
     "metadata": {},
     "output_type": "execute_result"
    },
    {
     "data": {
      "image/png": "[encoded data removed]",
      "text/plain": [
       "<Figure size 432x432 with 1 Axes>"
      ]
     },
     "metadata": {
      "needs_background": "light"
     },
     "output_type": "display_data"
    }
   ],
   "source": [
    "my_plot(ax, [phase, mags.g], 18.6, 16.6, fsize=6, xtit='x_title', ytit='y_title')\n",
    "ax.plot(phase_phot,phot.cv,'.g', label='V')"
   ]
  },
  {
   "cell_type": "code",
   "execution_count": 173,
   "id": "01fb12da",
   "metadata": {},
   "outputs": [],
   "source": [
    "os.chdir('e:/Observations/BTA/s080502/MTDra/')\n",
    "files = [file for file in os.listdir() if 'gauss.fts' in file]"
   ]
  },
  {
   "cell_type": "code",
   "execution_count": 178,
   "id": "63b822bf",
   "metadata": {},
   "outputs": [
    {
     "data": {
      "text/plain": [
       "[<matplotlib.lines.Line2D at 0x12e3d190>]"
      ]
     },
     "execution_count": 178,
     "metadata": {},
     "output_type": "execute_result"
    },
    {
     "data": {
      "image/png": "[encoded data removed]",
      "text/plain": [
       "<Figure size 432x432 with 1 Axes>"
      ]
     },
     "metadata": {
      "needs_background": "light"
     },
     "output_type": "display_data"
    }
   ],
   "source": [
    "lamS, fl = np.loadtxt('MT Dra_021413.txt', unpack=True)\n",
    "del(mags)\n",
    "mags = pd.DataFrame(columns=['B','g'])\n",
    "for file in files:\n",
    "    spec = fits.getdata(file)\n",
    "    filt_int  = np.interp(lamS,lamF_B*10,filt_B/100)              #Interpolate to common wavelength axis\n",
    "    I1        = simps(spec*filt_int*lamS,lamS)                     #Denominator\n",
    "    I2        = simps(filt_int/lamS,lamS)                     #Numerator\n",
    "    fnu       = I1/I2 / c_AAs                          #Average flux density\n",
    "    mAB       = -2.5*np.log10(fnu) - 48.6              #AB magnitude\n",
    "    filt_int1  = np.interp(lamS,lamF_g*10,filt_g/100)              #Interpolate to common wavelength axis\n",
    "    I3        = simps(spec*filt_int1*lamS,lamS)                     #Denominator\n",
    "    I4        = simps(filt_int1/lamS,lamS)                     #Numerator\n",
    "    fnu1       = I3/I4 / c_AAs                          #Average flux density\n",
    "    mABg       = -2.5*np.log10(fnu1) - 48.6              #AB magnitude\n",
    "    mags = mags.append({'B': mAB,'g': mABg}, ignore_index=True)\n",
    "JD = pd.read_csv('../JD.dat',header=None)\n",
    "phase = pd.read_csv('../phase_all.dat', header=None)\n",
    "my_plot(ax, [phase, mags.g], 18.7, 17.8, fsize=6, xtit='phase', ytit='Magnitude')"
   ]
  },
  {
   "cell_type": "code",
   "execution_count": null,
   "id": "ec9feb92",
   "metadata": {},
   "outputs": [],
   "source": []
  }
 ],
 "metadata": {
  "kernelspec": {
   "display_name": "Python 3 (ipykernel)",
   "language": "python",
   "name": "python3"
  },
  "language_info": {
   "codemirror_mode": {
    "name": "ipython",
    "version": 3
   },
   "file_extension": ".py",
   "mimetype": "text/x-python",
   "name": "python",
   "nbconvert_exporter": "python",
   "pygments_lexer": "ipython3",
   "version": "3.8.12"
  }
 },
 "nbformat": 4,
 "nbformat_minor": 5
}
