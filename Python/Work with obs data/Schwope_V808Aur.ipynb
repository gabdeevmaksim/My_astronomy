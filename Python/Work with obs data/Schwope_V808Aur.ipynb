{
 "cells": [
  {
   "cell_type": "code",
   "execution_count": 1,
   "metadata": {},
   "outputs": [],
   "source": [
    "import numpy as np\n",
    "import pandas as pd\n",
    "import matplotlib.pyplot as plot\n",
    "import os"
   ]
  },
  {
   "cell_type": "code",
   "execution_count": 28,
   "metadata": {},
   "outputs": [],
   "source": [
    "d = 'c:\\\\Users\\gamak\\Documents\\Papers\\Eclipses\\\\'\n",
    "dire = os.listdir(d)\n",
    "files = [files for files in dire if files.split('.')[1]=='dat']"
   ]
  },
  {
   "cell_type": "code",
   "execution_count": 54,
   "metadata": {},
   "outputs": [
    {
     "name": "stdout",
     "output_type": "stream",
     "text": [
      "0 16.02725\n",
      "1 16.039350993377486\n",
      "2 16.09091156462585\n",
      "3 15.858031250000002\n",
      "4 16.15146808510638\n",
      "5 16.1378487394958\n",
      "6 15.895343283582093\n",
      "7 16.45211111111111\n",
      "8 16.081031914893618\n",
      "9 16.04531707317074\n",
      "10 16.120075000000003\n",
      "11 16.095130081300823\n",
      "12 16.157631147540982\n",
      "13 16.225299999999997\n",
      "14 17.054136363636363\n",
      "15 17.30425\n",
      "16 17.489394957983194\n",
      "17 17.976281250000007\n",
      "18 18.196730769230765\n",
      "19 nan\n",
      "20 16.06884126984127\n",
      "21 16.06889908256881\n",
      "22 17.480261682242986\n",
      "23 17.64568852459016\n",
      "24 17.68894736842105\n",
      "25 17.73763636363636\n",
      "26 17.619096774193533\n",
      "27 17.284227272727268\n",
      "28 17.458576271186438\n",
      "29 17.412945312499996\n",
      "30 17.362882812500004\n",
      "31 17.333078125\n",
      "32 15.938789473684205\n",
      "33 15.699146551724136\n",
      "34 15.457747967479673\n",
      "35 15.417738461538464\n",
      "36 15.313865384615385\n",
      "37 15.35885294117647\n",
      "38 15.365000000000006\n",
      "39 15.344247787610625\n",
      "40 15.543\n",
      "41 15.493541666666667\n",
      "42 15.430164705882353\n",
      "43 15.073\n",
      "44 15.096580952380958\n",
      "45 15.271866666666678\n",
      "46 15.260166666666665\n",
      "47 15.122433962264155\n",
      "48 15.288697478991597\n",
      "49 15.29781512605042\n",
      "50 15.272609523809525\n",
      "51 15.228589743589746\n",
      "52 15.322658333333328\n",
      "53 15.333653846153844\n",
      "54 15.214722222222216\n",
      "55 15.29677419354839\n",
      "56 15.25702380952381\n",
      "57 15.266141666666668\n",
      "58 15.174693333333332\n",
      "59 15.072578947368418\n",
      "60 15.240444444444442\n",
      "61 15.34312200772201\n",
      "62 15.325220700636946\n",
      "63 15.191300970873783\n",
      "64 15.326661764705879\n",
      "65 15.19517741935484\n",
      "66 15.216604651162793\n",
      "67 15.242159663865548\n",
      "68 15.3025\n",
      "69 15.16264583333333\n",
      "70 18.163552941176462\n",
      "71 18.393\n",
      "72 18.599666666666668\n",
      "73 18.05065957446808\n"
     ]
    }
   ],
   "source": [
    "j = 0\n",
    "for i in files:\n",
    "    ecl = pd.read_csv(d+i)\n",
    "    print(j,np.mean(ecl.iloc[:,1]))\n",
    "    j=j+1"
   ]
  },
  {
   "cell_type": "code",
   "execution_count": 60,
   "metadata": {},
   "outputs": [
    {
     "data": {
      "text/plain": [
       "(0.47, 0.57)"
      ]
     },
     "execution_count": 60,
     "metadata": {},
     "output_type": "execute_result"
    },
    {
     "data": {
      "image/png": "[encoded data removed]",
      "text/plain": [
       "<Figure size 432x288 with 1 Axes>"
      ]
     },
     "metadata": {
      "needs_background": "light"
     },
     "output_type": "display_data"
    }
   ],
   "source": [
    "i = 70\n",
    "ecl = pd.read_csv(d+files[i])\n",
    "plot.scatter(ecl.iloc[:,3],ecl.iloc[:,1])\n",
    "plot.xlim(0.47,.57)"
   ]
  }
 ],
 "metadata": {
  "kernelspec": {
   "display_name": "Python 3",
   "language": "python",
   "name": "python3"
  },
  "language_info": {
   "codemirror_mode": {
    "name": "ipython",
    "version": 3
   },
   "file_extension": ".py",
   "mimetype": "text/x-python",
   "name": "python",
   "nbconvert_exporter": "python",
   "pygments_lexer": "ipython3",
   "version": "3.8.3"
  }
 },
 "nbformat": 4,
 "nbformat_minor": 4
}
