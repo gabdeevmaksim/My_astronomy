{
 "cells": [
  {
   "cell_type": "code",
   "execution_count": 24,
   "metadata": {},
   "outputs": [],
   "source": [
    "import os\n",
    "import pandas as pd\n",
    "import numpy as np\n",
    "from astropy.io import fits\n",
    "from astropy.table import Table\n",
    "\n",
    "os.chdir('e:\\\\Observations\\\\Schwope.V808 Aur\\\\')\n",
    "\n",
    "files = os.listdir(os.curdir)\n",
    "    "
   ]
  },
  {
   "cell_type": "code",
   "execution_count": 58,
   "metadata": {},
   "outputs": [],
   "source": [
    "hdul = fits.open(files[3])\n",
    "hdul1 = fits.open(files[2])"
   ]
  },
  {
   "cell_type": "code",
   "execution_count": 61,
   "metadata": {},
   "outputs": [],
   "source": [
    "lcv_vlow = pd.DataFrame(hdul[1].data)\n",
    "lcv_low = pd.DataFrame(hdul1[1].data)"
   ]
  },
  {
   "cell_type": "code",
   "execution_count": 47,
   "metadata": {},
   "outputs": [],
   "source": [
    "import matplotlib.pyplot as plot"
   ]
  },
  {
   "cell_type": "code",
   "execution_count": 85,
   "metadata": {},
   "outputs": [
    {
     "name": "stdout",
     "output_type": "stream",
     "text": [
      "40    0.905476\n",
      "41    0.915476\n",
      "42    0.925476\n",
      "43    0.935476\n",
      "44    0.945476\n",
      "45    0.955476\n",
      "46    0.965476\n",
      "47    0.975476\n",
      "48    0.985476\n",
      "49    0.995476\n",
      "50    1.005476\n",
      "51    1.015476\n",
      "52    1.025476\n",
      "53    1.035476\n",
      "54    1.045476\n",
      "55    1.055476\n",
      "56    1.065476\n",
      "57    1.075476\n",
      "58    1.085476\n",
      "59    1.095476\n",
      "60    1.105476\n",
      "Name: rph05, dtype: float32\n"
     ]
    }
   ],
   "source": [
    "print(lcv_low.loc[40:60,'rph05'])"
   ]
  },
  {
   "cell_type": "code",
   "execution_count": 76,
   "metadata": {},
   "outputs": [
    {
     "data": {
      "text/plain": [
       "[<matplotlib.lines.Line2D at 0x14865610>]"
      ]
     },
     "execution_count": 76,
     "metadata": {},
     "output_type": "execute_result"
    },
    {
     "data": {
      "image/png": "[encoded data removed]",
      "text/plain": [
       "<Figure size 432x288 with 1 Axes>"
      ]
     },
     "metadata": {
      "needs_background": "light"
     },
     "output_type": "display_data"
    }
   ],
   "source": [
    "plot.plot(lcv_vlow.rph05,lcv_vlow.mag)\n",
    "plot.xlim(0.964,1.036)\n",
    "plot.plot(lcv_low.rph05,lcv_low.mag, color='red')"
   ]
  }
 ],
 "metadata": {
  "kernelspec": {
   "display_name": "Python 3 (ipykernel)",
   "language": "python",
   "name": "python3"
  },
  "language_info": {
   "codemirror_mode": {
    "name": "ipython",
    "version": 3
   },
   "file_extension": ".py",
   "mimetype": "text/x-python",
   "name": "python",
   "nbconvert_exporter": "python",
   "pygments_lexer": "ipython3",
   "version": "3.8.12"
  }
 },
 "nbformat": 4,
 "nbformat_minor": 4
}
