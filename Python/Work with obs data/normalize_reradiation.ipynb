{
 "cells": [
  {
   "cell_type": "code",
   "execution_count": 2,
   "id": "db3593ce",
   "metadata": {},
   "outputs": [],
   "source": [
    "import os\n",
    "import pandas as pd\n",
    "import math \n",
    "\n",
    "os.chdir('c:/Users/gamak/Documents/Papers/MT_Dra/')"
   ]
  },
  {
   "cell_type": "code",
   "execution_count": 4,
   "id": "c6563135",
   "metadata": {},
   "outputs": [],
   "source": [
    "files = [file for file in os.listdir() if 'flux' in file]"
   ]
  },
  {
   "cell_type": "code",
   "execution_count": 28,
   "id": "ca472f06",
   "metadata": {},
   "outputs": [],
   "source": [
    "for file in files:\n",
    "    flux = pd.read_fwf(file, header = None, names=['phase','flux'])\n",
    "    flux.phase = flux.phase + 0.5\n",
    "    flux.phase[flux.phase >= 1] = flux.phase[flux.phase >= 1] - 1\n",
    "    flux = flux.sort_values('phase', ignore_index = True)\n",
    "    flux.flux = flux.flux/flux.flux.max()\n",
    "    flux.round(4).to_csv(file[:-4]+'_new'+file[-4:], header = None, index=False, sep=' ')\n",
    "    del flux"
   ]
  },
  {
   "cell_type": "code",
   "execution_count": null,
   "id": "cbe6cf7f",
   "metadata": {},
   "outputs": [],
   "source": []
  }
 ],
 "metadata": {
  "kernelspec": {
   "display_name": "Python 3 (ipykernel)",
   "language": "python",
   "name": "python3"
  },
  "language_info": {
   "codemirror_mode": {
    "name": "ipython",
    "version": 3
   },
   "file_extension": ".py",
   "mimetype": "text/x-python",
   "name": "python",
   "nbconvert_exporter": "python",
   "pygments_lexer": "ipython3",
   "version": "3.8.12"
  }
 },
 "nbformat": 4,
 "nbformat_minor": 5
}
