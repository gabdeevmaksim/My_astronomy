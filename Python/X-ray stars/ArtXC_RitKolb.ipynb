{
 "cells": [
  {
   "cell_type": "code",
   "execution_count": 24,
   "id": "70cf9fd3",
   "metadata": {},
   "outputs": [],
   "source": [
    "import pandas as pd\n",
    "from astroquery.vizier import Vizier\n",
    "from astropy.coordinates import SkyCoord\n",
    "from astropy import units as u \n",
    "from astropy.table import Table\n",
    "from astroquery.xmatch import XMatch\n",
    "import seaborn as sns\n",
    "import matplotlib.pyplot as plt"
   ]
  },
  {
   "cell_type": "code",
   "execution_count": 2,
   "id": "360a1569",
   "metadata": {},
   "outputs": [],
   "source": [
    "DIR = 'c:\\\\Users\\\\gamak\\\\Documents\\\\Report RSF\\\\22.01.NewGrant\\\\'\n",
    "tab_ARTXC = pd.read_csv(DIR+'artxc_1year_catalog.csv')"
   ]
  },
  {
   "cell_type": "code",
   "execution_count": 4,
   "id": "6179ed3c",
   "metadata": {},
   "outputs": [],
   "source": [
    "col=['RAJ2000','DEJ2000','NAME','OTYPE']\n",
    "pos_list = tab_ARTXC[col]\n",
    "pos_list.to_csv(DIR+'pos_list_RK.csv',index=False)"
   ]
  },
  {
   "cell_type": "code",
   "execution_count": 5,
   "id": "fcd2c27f",
   "metadata": {},
   "outputs": [],
   "source": [
    "table = XMatch.query(cat1=open(DIR+'pos_list_RK.csv'), cat2='vizier:B/cb/cbdata',max_distance=20 * u.arcsec, colRA1='RAJ2000', colDec1='DEJ2000')"
   ]
  },
  {
   "cell_type": "code",
   "execution_count": 11,
   "id": "7ae9acde",
   "metadata": {},
   "outputs": [],
   "source": [
    "t_pd=table.to_pandas()"
   ]
  },
  {
   "cell_type": "code",
   "execution_count": 18,
   "id": "20ba6973",
   "metadata": {},
   "outputs": [],
   "source": [
    "i = t_pd.OTYPE == 'LMXB'"
   ]
  },
  {
   "cell_type": "code",
   "execution_count": 33,
   "id": "152554b5",
   "metadata": {},
   "outputs": [
    {
     "data": {
      "text/plain": [
       "(0.0, 0.5)"
      ]
     },
     "execution_count": 33,
     "metadata": {},
     "output_type": "execute_result"
    },
    {
     "data": {
      "image/png": "[encoded data removed]",
      "text/plain": [
       "<Figure size 432x288 with 1 Axes>"
      ]
     },
     "metadata": {
      "needs_background": "light"
     },
     "output_type": "display_data"
    }
   ],
   "source": [
    "t_pd['Orb.Per'].hist(bins=100)\n",
    "plt.xlim(0,0.5)"
   ]
  },
  {
   "cell_type": "code",
   "execution_count": null,
   "id": "85746698",
   "metadata": {},
   "outputs": [],
   "source": []
  }
 ],
 "metadata": {
  "kernelspec": {
   "display_name": "Python 3 (ipykernel)",
   "language": "python",
   "name": "python3"
  },
  "language_info": {
   "codemirror_mode": {
    "name": "ipython",
    "version": 3
   },
   "file_extension": ".py",
   "mimetype": "text/x-python",
   "name": "python",
   "nbconvert_exporter": "python",
   "pygments_lexer": "ipython3",
   "version": "3.8.12"
  }
 },
 "nbformat": 4,
 "nbformat_minor": 5
}
