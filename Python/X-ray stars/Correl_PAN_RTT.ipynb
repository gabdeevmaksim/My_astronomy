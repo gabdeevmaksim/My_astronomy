{
 "cells": [
  {
   "cell_type": "code",
   "execution_count": 1,
   "metadata": {},
   "outputs": [],
   "source": [
    "from astropy.io import fits\n",
    "import numpy as np\n",
    "import pandas as pd\n",
    "import matplotlib.pyplot as plt\n",
    "import os \n",
    "from astropy.table import Table\n",
    "\n",
    "file_PAN = 'MyTable1_Dedulek.fit'\n",
    "file_RTT = 'XMMJ184_LC_20200709.fits'\n",
    "file_RTT_col = 'XMMJ184_COLORS_20200709.fits'"
   ]
  },
  {
   "cell_type": "code",
   "execution_count": 2,
   "metadata": {},
   "outputs": [],
   "source": [
    "hdul_PAN = fits.open(file_PAN)\n",
    "hdul_RTT = fits.open(file_RTT)\n",
    "hdul_RTT_col = fits.open(file_RTT_col)\n"
   ]
  },
  {
   "cell_type": "code",
   "execution_count": 3,
   "metadata": {},
   "outputs": [],
   "source": [
    "#hdul_RTT.info()\n",
    "PAN = pd.DataFrame(hdul_PAN[1].data)\n",
    "RTT = Table().read(hdul_RTT[1], hdu=1)\n",
    "RTT_col = Table().read(hdul_RTT_col[1], hdu=1)"
   ]
  },
  {
   "cell_type": "code",
   "execution_count": 4,
   "metadata": {},
   "outputs": [],
   "source": [
    "PAN_coor = np.array((PAN.raMean,PAN.decMean))\n",
    "#RTT_c = pd.DataFrame(RTT.columns[1],RTT.columns[2])\n",
    "RTT_coor = np.array((RTT.columns[1],RTT.columns[2]))"
   ]
  },
  {
   "cell_type": "code",
   "execution_count": 5,
   "metadata": {},
   "outputs": [],
   "source": [
    "tol = .5\n",
    "N = RTT_coor.shape[1]\n",
    "tol2 = tol*tol/3600.0/3600.0 # radius in square"
   ]
  },
  {
   "cell_type": "code",
   "execution_count": 6,
   "metadata": {},
   "outputs": [],
   "source": [
    "correl_obj = np.zeros((N,2),dtype = np.int32)"
   ]
  },
  {
   "cell_type": "code",
   "execution_count": 7,
   "metadata": {},
   "outputs": [],
   "source": [
    "r_mean = np.zeros(N)\n",
    "i_mean = np.zeros(N)\n",
    "z_mean = np.zeros(N)\n",
    "#print(r_mean.shape)\n",
    "for i in range(N):\n",
    "    if np.sum(np.isnan(RTT.columns['r_PSF'][i])) != 4:\n",
    "         r_mean[i] = np.nanmedian(RTT.columns['r_PSF'][i])\n",
    "    if np.sum(np.isnan(RTT.columns['i_PSF'][i])) != 5:\n",
    "         i_mean[i] = np.nanmedian(RTT.columns['i_PSF'][i])\n",
    "    if np.sum(np.isnan(RTT.columns['z_PSF'][i])) != 5:\n",
    "         z_mean[i] = np.nanmedian(RTT.columns['z_PSF'][i])"
   ]
  },
  {
   "cell_type": "code",
   "execution_count": 8,
   "metadata": {},
   "outputs": [],
   "source": [
    "rPAN = np.array(PAN.rMeanPSFMag)\n",
    "iPAN = np.array(PAN.iMeanPSFMag)\n",
    "zPAN = np.array(PAN.zMeanPSFMag)\n",
    "riPAN = rPAN - iPAN\n",
    "izPAN = iPAN - zPAN\n",
    "rzPAN = rPAN - zPAN"
   ]
  },
  {
   "cell_type": "markdown",
   "metadata": {},
   "source": [
    "for i in range(N):\n",
    "    if (r_mean[i] <= 23 and r_mean[i] >= 13):\n",
    "        r2 = (PAN_coor[0,:] - RTT_coor[0,i])**2 + (PAN_coor[1,:] - RTT_coor[1,i])**2\n",
    "        j = np.argmin(r2) # choose the minimum value\n",
    "        if (r2[j] <= tol2 and  rPAN[j] >= 13 and rPAN[j] <= 23):  \n",
    "            correl_obj[i,0] = i\n",
    "            correl_obj[i,1] = j       "
   ]
  },
  {
   "cell_type": "code",
   "execution_count": 10,
   "metadata": {},
   "outputs": [
    {
     "name": "stdout",
     "output_type": "stream",
     "text": [
      "278.21416645 -10.01863661 278.21414554656025 -10.018646660006016 20.839099884033203 20.802629470825195 19.590999603271484 19.545616149902344 18.85610008239746 18.77821922302246\n",
      "278.21509657 -10.0199632 278.21507573884776 -10.01994054530383 20.54400062561035 20.644573211669922 19.405799865722656 19.355636596679688 18.675899505615234 18.622451782226562\n",
      "278.21650269 -10.01712318 278.21647523436707 -10.017121850239414 15.828499794006348 15.819031715393066 14.717499732971191 14.689648628234863 14.048999786376953 14.002851486206055\n"
     ]
    }
   ],
   "source": [
    "coord = [278.215146, -10.0181608] \n",
    "\n",
    "tol = 10\n",
    "tol2 = tol*tol/3600.0/3600.0 # radius in square\n",
    "r2 = (RTT_coor[0,:] - coord[0])**2 + (RTT_coor[1,:] - coord[1])**2\n",
    "i = r2 <= tol2\n",
    "\n",
    "for j in range(3): \n",
    "    print(PAN_coor[0,correl_obj[i][j,1]],PAN_coor[1,correl_obj[i][j,1]],RTT_coor[0,correl_obj[i][j,0]],RTT_coor[1,correl_obj[i][j,0]],rPAN[correl_obj[i][j,1]],r_mean[correl_obj[i][j,0]],iPAN[correl_obj[i][j,1]],i_mean[correl_obj[i][j,0]],zPAN[correl_obj[i][j,1]],z_mean[correl_obj[i][j,0]])\n"
   ]
  },
  {
   "cell_type": "code",
   "execution_count": 43,
   "metadata": {},
   "outputs": [],
   "source": [
    "ri_mean = np.empty(N)\n",
    "iz_mean = np.empty(N)\n",
    "for i in range(N):\n",
    "    if np.sum(np.isnan(RTT_col.columns['ri_PSF'][i])) != 4:\n",
    "         ri_mean[i] = np.nanmedian(RTT_col.columns['ri_PSF'][i])\n",
    "    if np.sum(np.isnan(RTT_col.columns['iz_PSF'][i])) != 5:\n",
    "         iz_mean[i] = np.nanmedian(RTT_col.columns['iz_PSF'][i])"
   ]
  },
  {
   "cell_type": "code",
   "execution_count": 44,
   "metadata": {},
   "outputs": [],
   "source": [
    "correl_obj = correl_obj[np.nonzero(correl_obj[:,0])]"
   ]
  },
  {
   "cell_type": "code",
   "execution_count": 45,
   "metadata": {},
   "outputs": [
    {
     "data": {
      "text/plain": [
       "<matplotlib.collections.PathCollection at 0xfb4f160>"
      ]
     },
     "execution_count": 45,
     "metadata": {},
     "output_type": "execute_result"
    },
    {
     "data": {
      "image/png": "[encoded data removed]",
      "text/plain": [
       "<Figure size 432x288 with 1 Axes>"
      ]
     },
     "metadata": {
      "needs_background": "light"
     },
     "output_type": "display_data"
    }
   ],
   "source": [
    "plt.scatter(np.arange(correl_obj.shape[0]),correl_obj[:,1])"
   ]
  },
  {
   "cell_type": "code",
   "execution_count": 125,
   "metadata": {},
   "outputs": [
    {
     "name": "stdout",
     "output_type": "stream",
     "text": [
      "\n",
      "PSF LIGHTCURVES: \n"
     ]
    }
   ],
   "source": [
    "plot_file = 'RTT-PAN_col.pdf'\n",
    "from matplotlib.backends.backend_pdf import PdfPages\n",
    "with PdfPages(plot_file) as pdf:\n",
    "    print('\\nPSF LIGHTCURVES: ')\n",
    "#    jd_min = np.min(lc_tab[jd_col_name[0]][ii])\n",
    "#    jd_max = np.max(lc_tab[jd_col_name[0]][ii])\n",
    "#    for i in range(1, len(flts)):\n",
    "#        v = np.min(lc_tab[jd_col_name[i]][ii])\n",
    "#        if v < jd_min:\n",
    "#            jd_min = v\n",
    "#        v = np.max(lc_tab[jd_col_name[i]][ii])\n",
    "#        if v > jd_max:\n",
    "#            jd_max = v\n",
    "\n",
    "#    r = (jd_max - jd_min) / 20\n",
    "#    jd_min -= r\n",
    "#    jd_max += r\n",
    "    N_p = 2\n",
    "    plt.figure(figsize=[3,6])\n",
    "    plt.subplots_adjust(hspace=1)\n",
    "    for i in range(N_p):\n",
    "        if i == 0:\n",
    "            ax = plt.subplot(N_p, 1, i + 1, xlabel='RTT_col', ylabel='PAN_col', title='r-i', ylim = [-2,+4],\n",
    "                              autoscalex_on=False, xlim= [-2,+4])\n",
    "        else:\n",
    "            plt.subplot(N_p, 1, i + 1, xlabel='RTT_col', ylabel='PAN_col', title = 'i-z', sharex=ax, sharey=ax)\n",
    "\n",
    "        plt.scatter(ri_mean[correl_obj[:,0]], riPAN[correl_obj[:,1]])\n",
    "        #print('\\t{}:'.format(flts[i]))\n",
    "        #print('\\t\\t', lc_tab[col_psf_name[i]][ii])\n",
    "        #print('\\t\\t', lc_tab[col_err_psf_name[i]][ii])\n",
    "\n",
    "    pdf.savefig()\n",
    "    plt.close()"
   ]
  },
  {
   "cell_type": "code",
   "execution_count": 62,
   "metadata": {},
   "outputs": [
    {
     "data": {
      "text/plain": [
       "(1.0055302866949267, -0.09692952831739987)"
      ]
     },
     "execution_count": 62,
     "metadata": {},
     "output_type": "execute_result"
    }
   ],
   "source": [
    "r1 = i_mean[correl_obj[:,0]]\n",
    "r2 = iPAN[correl_obj[:,1]]\n",
    "N1 = r1.shape[0]\n",
    "mask = np.empty(N1)\n",
    "for i in range(N1):\n",
    "    if (r1[i] >= 13 and r1[i] <= 23 and r2[i] >= 13 and r2[i] <= 23):\n",
    "            mask[i] = 1\n",
    "    else:\n",
    "            mask[i] = 0\n",
    "mask1 = np.nonzero(mask)\n",
    "r1 = r1[mask1]\n",
    "r2 = r2[mask1]\n",
    "c = np.polyfit(r1, r2, 1)\n",
    "\n",
    "from scipy import stats\n",
    "res = stats.siegelslopes(r2, r1)\n",
    "res\n"
   ]
  },
  {
   "cell_type": "code",
   "execution_count": 65,
   "metadata": {},
   "outputs": [
    {
     "data": {
      "text/plain": [
       "(array([ 35.,  62., 116., 202., 273., 375., 584., 705., 761., 629., 146.]),\n",
       " array([14.23159981, 14.83870888, 15.44581795, 16.05292702, 16.66003609,\n",
       "        17.26714516, 17.87425423, 18.4813633 , 19.08847237, 19.69558144,\n",
       "        20.30269051, 20.90979958]),\n",
       " <BarContainer object of 11 artists>)"
      ]
     },
     "execution_count": 65,
     "metadata": {},
     "output_type": "execute_result"
    },
    {
     "data": {
      "image/png": "[encoded data removed]",
      "text/plain": [
       "<Figure size 288x864 with 3 Axes>"
      ]
     },
     "metadata": {
      "needs_background": "light"
     },
     "output_type": "display_data"
    }
   ],
   "source": [
    "f = plt.figure(figsize=(4,12))\n",
    "plt.subplots_adjust(hspace=0.5)\n",
    "ax = plt.subplot(3,1,1, ylim=[13,23], xlim=[13,23])\n",
    "plt.scatter(r1,r2)\n",
    "plt.title('Slope='+str(res[0])+'  b='+str(res[1]))\n",
    "x = np.arange(10)+14\n",
    "plt.plot(x,np.polyval(c,x), c ='r')\n",
    "plt.plot(x,np.polyval(res,x), c ='g' )\n",
    "ax = plt.subplot(3,1,2, title='RTT')\n",
    "plt.hist(r1, 11)\n",
    "ax = plt.subplot(3,1,3, title='PAN')\n",
    "plt.hist(r2, 11)\n",
    "#ax = plt.subplot(3,1,2, ylim=[13,24], xlim=[13,23])\n",
    "#plt.scatter(i_mean[correl_obj[:,0]],iPAN[correl_obj[:,1]])\n",
    "#ax = plt.subplot(3,1,3, ylim=[13,24], xlim=[13,23])\n",
    "#plt.scatter(z_mean[correl_obj[:,0]],zPAN[correl_obj[:,1]])\n",
    "#plt.savefig('slope+hist_z.pdf')"
   ]
  },
  {
   "cell_type": "code",
   "execution_count": 63,
   "metadata": {},
   "outputs": [
    {
     "data": {
      "text/plain": [
       "(-0.0033626556396484375, 0.08294376368092471)"
      ]
     },
     "execution_count": 63,
     "metadata": {},
     "output_type": "execute_result"
    }
   ],
   "source": [
    "np.median(r1-r2), np.std(r1-r2)"
   ]
  }
 ],
 "metadata": {
  "kernelspec": {
   "display_name": "Python 3 (ipykernel)",
   "language": "python",
   "name": "python3"
  },
  "language_info": {
   "codemirror_mode": {
    "name": "ipython",
    "version": 3
   },
   "file_extension": ".py",
   "mimetype": "text/x-python",
   "name": "python",
   "nbconvert_exporter": "python",
   "pygments_lexer": "ipython3",
   "version": "3.8.12"
  }
 },
 "nbformat": 4,
 "nbformat_minor": 4
}
