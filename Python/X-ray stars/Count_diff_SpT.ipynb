{
 "cells": [
  {
   "cell_type": "code",
   "execution_count": 1,
   "metadata": {},
   "outputs": [],
   "source": [
    "import pandas as pd\n",
    "import numpy as np"
   ]
  },
  {
   "cell_type": "code",
   "execution_count": 2,
   "metadata": {},
   "outputs": [],
   "source": [
    "path = 'C:\\\\Users\\\\gamak\\\\Documents\\\\Papers\\\\CVs in eROS\\\\'\n",
    "tab = pd.read_csv(path+'gaia_xstars_pm_r98_200pc_lkh10_woutdup.gzip')"
   ]
  },
  {
   "cell_type": "code",
   "execution_count": 4,
   "metadata": {},
   "outputs": [],
   "source": [
    "Teff = np.array(tab.Teff)"
   ]
  },
  {
   "cell_type": "code",
   "execution_count": 16,
   "metadata": {},
   "outputs": [],
   "source": [
    "Tsp = [2000,3500,5000,6000,7500,10000,30000]\n",
    "Sp = ['M','K','F','G','A','B']"
   ]
  },
  {
   "cell_type": "code",
   "execution_count": 21,
   "metadata": {},
   "outputs": [
    {
     "data": {
      "text/plain": [
       "16336"
      ]
     },
     "execution_count": 21,
     "metadata": {},
     "output_type": "execute_result"
    }
   ],
   "source": []
  },
  {
   "cell_type": "code",
   "execution_count": 28,
   "metadata": {},
   "outputs": [
    {
     "name": "stdout",
     "output_type": "stream",
     "text": [
      "Number of M(2000-3500) stars 16336\n",
      "Number of K(3500-5000) stars 20323\n",
      "Number of F(5000-6000) stars 9121\n",
      "Number of G(6000-7500) stars 8126\n",
      "Number of A(7500-10000) stars 747\n",
      "Number of B(10000-30000) stars 38\n"
     ]
    }
   ],
   "source": [
    "for i in range(len(Sp)):\n",
    "    j = Teff < Tsp[i+1]\n",
    "    k = Teff[j] >= Tsp[i]\n",
    "    print('Number of '+str(Sp[i])+'('+str(Tsp[i])+'-'+str(Tsp[i+1])+')'+' stars '+str(k.sum()))"
   ]
  },
  {
   "cell_type": "code",
   "execution_count": 24,
   "metadata": {},
   "outputs": [],
   "source": [
    "i = Teff < 2000"
   ]
  },
  {
   "cell_type": "code",
   "execution_count": 25,
   "metadata": {},
   "outputs": [
    {
     "data": {
      "text/plain": [
       "39"
      ]
     },
     "execution_count": 25,
     "metadata": {},
     "output_type": "execute_result"
    }
   ],
   "source": [
    "i.sum()"
   ]
  },
  {
   "cell_type": "code",
   "execution_count": 26,
   "metadata": {},
   "outputs": [
    {
     "data": {
      "text/plain": [
       "array([  15.37922564,  326.23724719,  377.56708376,  487.75606899,\n",
       "        663.74954368,  765.22396286,  823.97288415,  891.04312815,\n",
       "        917.99448415, 1036.04573884, 1094.19632674, 1127.11093963,\n",
       "       1161.30976371, 1178.22380555, 1225.12186291, 1228.02354484,\n",
       "       1271.46210631, 1315.19148764, 1338.31926431, 1368.89886941,\n",
       "       1373.07268981, 1392.49593517, 1483.53130716, 1484.14117006,\n",
       "       1493.00019599, 1515.26656451, 1522.99261062, 1528.66948574,\n",
       "       1639.1215459 , 1692.83771927, 1752.23271232, 1752.35238669,\n",
       "       1777.64519428, 1873.92568765, 1882.76441598, 1936.2032177 ,\n",
       "       1955.22389368, 1958.62418623, 1991.13737635])"
      ]
     },
     "execution_count": 26,
     "metadata": {},
     "output_type": "execute_result"
    }
   ],
   "source": [
    "Teff[i]"
   ]
  },
  {
   "cell_type": "code",
   "execution_count": null,
   "metadata": {},
   "outputs": [],
   "source": []
  }
 ],
 "metadata": {
  "kernelspec": {
   "display_name": "Python 3",
   "language": "python",
   "name": "python3"
  },
  "language_info": {
   "codemirror_mode": {
    "name": "ipython",
    "version": 3
   },
   "file_extension": ".py",
   "mimetype": "text/x-python",
   "name": "python",
   "nbconvert_exporter": "python",
   "pygments_lexer": "ipython3",
   "version": "3.8.3"
  }
 },
 "nbformat": 4,
 "nbformat_minor": 4
}
