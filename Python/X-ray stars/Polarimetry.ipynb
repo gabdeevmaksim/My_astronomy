{
 "cells": [
  {
   "cell_type": "code",
   "execution_count": 2,
   "metadata": {},
   "outputs": [],
   "source": [
    "import pandas as pd\n",
    "import numpy as np\n",
    "import os"
   ]
  },
  {
   "cell_type": "code",
   "execution_count": 3,
   "metadata": {},
   "outputs": [],
   "source": [
    "from os import listdir\n",
    "from os.path import isfile, join\n",
    "import math\n",
    "mypath = 'e:\\Observations\\MMPP\\\\20201013\\\\20201013_catalogs\\Standard\\\\'\n",
    "files = pd.array([f for f in listdir(mypath) if isfile(join(mypath, f))])"
   ]
  },
  {
   "cell_type": "code",
   "execution_count": 8,
   "metadata": {},
   "outputs": [],
   "source": [
    "for i in list(range(0,5,2)):\n",
    "    cat1 = pd.read_csv(mypath+files[i], skiprows = 11, sep='\\s+', header=None)\n",
    "    cat2 = pd.read_csv(mypath+files[i+1], skiprows = 11, sep='\\s+', header=None)\n",
    "#cat1 = cat1.sort_values(by = [4,1,2], axis = 0)\n",
    "#cat2 = cat2.sort_values(by = [4,1,2], axis = 0)\n",
    "    stars1 = pd.DataFrame(data=None,columns = ['X','Y','Flux_o','Err_F_o','Flux_e','Err_F_e'],dtype=float)\n",
    "    stars2 = pd.DataFrame(data=None,columns = ['X','Y','Flux_o','Err_F_o','Flux_e','Err_F_e'],dtype=float)\n",
    "    for j in cat1.index: \n",
    "         for k in cat1.index:\n",
    "            if (cat1.iloc[j][1]-cat1.iloc[k][1]) <= 19.5 and (cat1.iloc[j][1]-cat1.iloc[k][1]) >= 16.5 and (cat1.iloc[j][2]-cat1.iloc[k][2]) <= 20.5 and (cat1.iloc[j][2]-cat1.iloc[k][2]) >= 17.5:\n",
    "                stars1 = stars1.append({'X': cat1.iloc[j][1], 'Y': cat1.iloc[j][2], 'Flux_o': cat1.iloc[j][4], 'Err_F_o': cat1.iloc[j][7],'Flux_e': cat1.iloc[k][4],'Err_F_e':cat1.iloc[k][7]}, ignore_index=True)\n",
    "    for j in cat2.index: \n",
    "        for k in cat2.index:\n",
    "            if (cat2.iloc[j][1]-cat2.iloc[k][1]) <= 19 and (cat2.iloc[j][1]-cat2.iloc[k][1]) >= 17 and (cat2.iloc[j][2]-cat2.iloc[k][2]) <= 20 and (cat2.iloc[j][2]-cat2.iloc[k][2]) >= 18:\n",
    "                stars2 = stars2.append({'X': cat2.iloc[j][1], 'Y': cat2.iloc[j][2], 'Flux_o': cat2.iloc[j][4], 'Err_F_o': cat2.iloc[j][7],'Flux_e': cat2.iloc[k][4],'Err_F_e':cat2.iloc[k][7]}, ignore_index=True)\n",
    "    polar = pd.DataFrame(data = None, columns = ['X','Y', 'Dist','Int-45','Int+45','P,%'])\n",
    "    for j in stars1.index:\n",
    "        for k in stars2.index:\n",
    "            if math.sqrt((stars1['X'][j]-stars2['X'][k])**2+(stars1['Y'][j]-stars2['Y'][k])**2) <= 5:\n",
    "                d = math.sqrt((stars1['X'][j]-530)**2+(stars1['Y'][j]-550)**2)\n",
    "                polar = polar.append({'X' :stars1['X'][j], 'Y': stars1['Y'][j], 'Dist': d, 'Int-45': stars1['Flux_o'][j]+stars1['Flux_e'][j], 'Int+45': stars2['Flux_o'][k]+stars2['Flux_e'][k], 'P,%': 50*((stars1['Flux_o'][j]-stars1['Flux_e'][j])/(stars1['Flux_o'][j]+stars1['Flux_e'][j])-(stars2['Flux_o'][k]-stars2['Flux_e'][k])/(stars2['Flux_o'][k]+stars2['Flux_e'][k]))}, ignore_index=True) \n",
    "    if i < 9:\n",
    "        polar.sort_values(by='Dist').to_csv(mypath+'Res\\\\0'+str(i+1)+'.csv') \n",
    "    else:\n",
    "        polar.sort_values(by='Dist').to_csv(mypath+'Res\\\\'+str(i+1)+'.csv')\n",
    "        "
   ]
  },
  {
   "cell_type": "code",
   "execution_count": 7,
   "metadata": {},
   "outputs": [],
   "source": [
    "for i in list(range(0,5,2)):\n",
    "    cat1 = pd.read_csv(mypath+files[i], skiprows = 11, sep='\\s+', header=None)\n",
    "    cat2 = pd.read_csv(mypath+files[i+1], skiprows = 11, sep='\\s+', header=None)\n",
    "#cat1 = cat1.sort_values(by = [4,1,2], axis = 0)\n",
    "#cat2 = cat2.sort_values(by = [4,1,2], axis = 0)\n",
    "    stars1 = pd.DataFrame(data=None,columns = ['X','Y','Flux_o','Err_F_o','Flux_e','Err_F_e'],dtype=float)\n",
    "    stars2 = pd.DataFrame(data=None,columns = ['X','Y','Flux_o','Err_F_o','Flux_e','Err_F_e'],dtype=float)\n",
    "    for j in cat1.index: \n",
    "         for k in cat1.index:\n",
    "            if (cat1.iloc[j][1]-cat1.iloc[k][1]) <= 19.5 and (cat1.iloc[j][1]-cat1.iloc[k][1]) >= 16.5 and (cat1.iloc[j][2]-cat1.iloc[k][2]) <= 20.5 and (cat1.iloc[j][2]-cat1.iloc[k][2]) >= 17.5:\n",
    "                stars1 = stars1.append({'X': cat1.iloc[j][1], 'Y': cat1.iloc[j][2], 'Flux_o': cat1.iloc[j][3], 'Err_F_o': cat1.iloc[j][7],'Flux_e': cat1.iloc[k][3],'Err_F_e':cat1.iloc[k][7]}, ignore_index=True)\n",
    "    for j in cat2.index: \n",
    "        for k in cat2.index:\n",
    "            if (cat2.iloc[j][1]-cat2.iloc[k][1]) <= 19 and (cat2.iloc[j][1]-cat2.iloc[k][1]) >= 17 and (cat2.iloc[j][2]-cat2.iloc[k][2]) <= 20 and (cat2.iloc[j][2]-cat2.iloc[k][2]) >= 18:\n",
    "                stars2 = stars2.append({'X': cat2.iloc[j][1], 'Y': cat2.iloc[j][2], 'Flux_o': cat2.iloc[j][3], 'Err_F_o': cat2.iloc[j][7],'Flux_e': cat2.iloc[k][3],'Err_F_e':cat2.iloc[k][7]}, ignore_index=True)\n",
    "    polar = pd.DataFrame(data = None, columns = ['X','Y', 'Dist','Int-45','Int+45','P,%'])\n",
    "    for j in stars1.index:\n",
    "        for k in stars2.index:\n",
    "            if math.sqrt((stars1['X'][j]-stars2['X'][k])**2+(stars1['Y'][j]-stars2['Y'][k])**2) <= 5:\n",
    "                d = math.sqrt((stars1['X'][j]-530)**2+(stars1['Y'][j]-550)**2)\n",
    "                polar = polar.append({'X' :stars1['X'][j], 'Y': stars1['Y'][j], 'Dist': d, 'Int-45': stars1['Flux_o'][j]+stars1['Flux_e'][j], 'Int+45': stars2['Flux_o'][k]+stars2['Flux_e'][k], 'P,%': 50*((stars1['Flux_o'][j]-stars1['Flux_e'][j])/(stars1['Flux_o'][j]+stars1['Flux_e'][j])+(stars2['Flux_o'][k]-stars2['Flux_e'][k])/(stars2['Flux_o'][k]+stars2['Flux_e'][k]))}, ignore_index=True) \n",
    "    if i < 9:\n",
    "        polar.sort_values(by='Dist').to_csv(mypath+'Res\\\\0'+str(i+1)+'.csv') \n",
    "    else:\n",
    "        polar.sort_values(by='Dist').to_csv(mypath+'Res\\\\'+str(i+1)+'.csv')\n",
    "        \n"
   ]
  },
  {
   "cell_type": "code",
   "execution_count": 40,
   "metadata": {},
   "outputs": [
    {
     "data": {
      "text/plain": [
       "<matplotlib.collections.PathCollection at 0x10cb09d0>"
      ]
     },
     "execution_count": 40,
     "metadata": {},
     "output_type": "execute_result"
    },
    {
     "data": {
      "image/png": "[encoded data removed]",
      "text/plain": [
       "<Figure size 432x288 with 1 Axes>"
      ]
     },
     "metadata": {
      "needs_background": "light"
     },
     "output_type": "display_data"
    }
   ],
   "source": [
    "import matplotlib.pyplot as plot\n",
    "plot.scatter(polar['Dist'],polar['P,%'])"
   ]
  },
  {
   "cell_type": "code",
   "execution_count": 59,
   "metadata": {},
   "outputs": [
    {
     "data": {
      "text/plain": [
       "[<matplotlib.lines.Line2D at 0x10d6a1f0>]"
      ]
     },
     "execution_count": 59,
     "metadata": {},
     "output_type": "execute_result"
    },
    {
     "data": {
      "image/png": "[encoded data removed]",
      "text/plain": [
       "<Figure size 432x288 with 1 Axes>"
      ]
     },
     "metadata": {
      "needs_background": "light"
     },
     "output_type": "display_data"
    }
   ],
   "source": [
    "plot.semilogx(polar['Int-45'],polar['P,%'],'bo')\n"
   ]
  },
  {
   "cell_type": "code",
   "execution_count": null,
   "metadata": {},
   "outputs": [],
   "source": []
  }
 ],
 "metadata": {
  "kernelspec": {
   "display_name": "Python 3 (ipykernel)",
   "language": "python",
   "name": "python3"
  },
  "language_info": {
   "codemirror_mode": {
    "name": "ipython",
    "version": 3
   },
   "file_extension": ".py",
   "mimetype": "text/x-python",
   "name": "python",
   "nbconvert_exporter": "python",
   "pygments_lexer": "ipython3",
   "version": "3.8.12"
  }
 },
 "nbformat": 4,
 "nbformat_minor": 4
}
