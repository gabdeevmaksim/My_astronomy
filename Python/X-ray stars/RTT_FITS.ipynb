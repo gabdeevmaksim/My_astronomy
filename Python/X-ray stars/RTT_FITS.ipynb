{
 "cells": [
  {
   "cell_type": "code",
   "execution_count": null,
   "metadata": {},
   "outputs": [],
   "source": []
  },
  {
   "cell_type": "code",
   "execution_count": null,
   "metadata": {},
   "outputs": [],
   "source": []
  },
  {
   "cell_type": "code",
   "execution_count": 176,
   "metadata": {},
   "outputs": [
    {
     "data": {
      "text/plain": [
       "(1,)"
      ]
     },
     "execution_count": 176,
     "metadata": {},
     "output_type": "execute_result"
    }
   ],
   "source": [
    "from astropy.io import fits\n",
    "from astropy.table import Table\n",
    "import os \n",
    "import math\n",
    "import numpy as np\n",
    "\n",
    "file = os.getcwd()+'\\\\XMMJ1832_20200709_result.fits'\n",
    "file\n",
    "\n",
    "hdul = fits.open(file)\n",
    "f = hdul[1].data\n",
    "RA = f['RA_MEAN'] \n",
    "DEC = f['DEC_MEAN']\n",
    "dRA = (RA - 278.21509)**2\n",
    "dDEC = (DEC + 10.01996)**2\n",
    "d = dRA + dDEC\n",
    "d = [math.sqrt(x) for x in d]\n",
    "dd=np.array(d)\n",
    "mask = dd < 1/3600\n",
    "r = f['r']\n",
    "z = f['z']\n",
    "i = f['i']\n",
    "JD = f['JD_MEAN']\n",
    "RA[mask].shape"
   ]
  },
  {
   "cell_type": "code",
   "execution_count": 181,
   "metadata": {},
   "outputs": [
    {
     "data": {
      "text/plain": [
       "(array([[17.009243, 16.912642, 16.895967, 16.878939]], dtype=float32),\n",
       " 16.904305,\n",
       " 0.05052617)"
      ]
     },
     "execution_count": 181,
     "metadata": {},
     "output_type": "execute_result"
    }
   ],
   "source": [
    "z[mask], np.median(z[mask]), np.std(z[mask])\n",
    "\n"
   ]
  },
  {
   "cell_type": "code",
   "execution_count": 178,
   "metadata": {},
   "outputs": [
    {
     "data": {
      "text/plain": [
       "(array([278.21507574]), array([-10.01994055]))"
      ]
     },
     "execution_count": 178,
     "metadata": {},
     "output_type": "execute_result"
    }
   ],
   "source": [
    "RA[mask], DEC[mask]"
   ]
  },
  {
   "cell_type": "code",
   "execution_count": 180,
   "metadata": {},
   "outputs": [
    {
     "data": {
      "image/png": "[encoded data removed]",
      "text/plain": [
       "<Figure size 432x288 with 1 Axes>"
      ]
     },
     "metadata": {
      "needs_background": "light"
     },
     "output_type": "display_data"
    }
   ],
   "source": [
    "import matplotlib.pyplot as plot\n",
    "\n",
    "plot.scatter(JD[mask],i[mask])\n",
    "plot.savefig(\"i_curve.pdf\")"
   ]
  }
 ],
 "metadata": {
  "kernelspec": {
   "display_name": "Python 3 (ipykernel)",
   "language": "python",
   "name": "python3"
  },
  "language_info": {
   "codemirror_mode": {
    "name": "ipython",
    "version": 3
   },
   "file_extension": ".py",
   "mimetype": "text/x-python",
   "name": "python",
   "nbconvert_exporter": "python",
   "pygments_lexer": "ipython3",
   "version": "3.8.12"
  }
 },
 "nbformat": 4,
 "nbformat_minor": 4
}
