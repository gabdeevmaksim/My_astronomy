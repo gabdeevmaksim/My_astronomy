{
 "cells": [
  {
   "cell_type": "code",
   "execution_count": 8,
   "id": "fab17c7b",
   "metadata": {},
   "outputs": [],
   "source": [
    "from astroquery.vizier import Vizier\n",
    "import matplotlib.pyplot as plt"
   ]
  },
  {
   "cell_type": "code",
   "execution_count": null,
   "id": "5fcd25e7",
   "metadata": {},
   "outputs": [],
   "source": []
  },
  {
   "cell_type": "code",
   "execution_count": null,
   "id": "3d56ef60",
   "metadata": {},
   "outputs": [],
   "source": []
  },
  {
   "cell_type": "code",
   "execution_count": 58,
   "id": "2b5af8c5",
   "metadata": {},
   "outputs": [],
   "source": [
    "from astropy.io.votable import parse_single_table\n",
    "from astropy.io.votable import parse\n",
    "import os"
   ]
  },
  {
   "cell_type": "code",
   "execution_count": 59,
   "id": "f00d49c8",
   "metadata": {},
   "outputs": [],
   "source": [
    "os.chdir('c:/Users/gamak/Documents/Conferences/Istanbul, 2022/')"
   ]
  },
  {
   "cell_type": "code",
   "execution_count": 60,
   "id": "620125a0",
   "metadata": {},
   "outputs": [
    {
     "name": "stderr",
     "output_type": "stream",
     "text": [
      "C:\\ProgramData\\Anaconda3\\envs\\Astro\\lib\\site-packages\\astropy\\units\\format\\vounit.py:109: UnitsWarning: Unit 'Msun' not supported by the VOUnit standard. \n",
      "  warnings.warn(\n"
     ]
    }
   ],
   "source": [
    "tab = parse('vizier_votable.vot')"
   ]
  },
  {
   "cell_type": "code",
   "execution_count": 61,
   "id": "d9bcec98",
   "metadata": {},
   "outputs": [],
   "source": [
    "tab1 = tab.get_first_table()"
   ]
  },
  {
   "cell_type": "code",
   "execution_count": 64,
   "id": "461dbde5",
   "metadata": {},
   "outputs": [],
   "source": [
    "tab2 = tab1.to_table()"
   ]
  },
  {
   "cell_type": "code",
   "execution_count": 67,
   "id": "41215af9",
   "metadata": {},
   "outputs": [],
   "source": [
    "tab3 = tab2.to_pandas()"
   ]
  },
  {
   "cell_type": "code",
   "execution_count": 119,
   "id": "f03f98d7",
   "metadata": {},
   "outputs": [
    {
     "data": {
      "text/html": [
       "<div>\n",
       "<style scoped>\n",
       "    .dataframe tbody tr th:only-of-type {\n",
       "        vertical-align: middle;\n",
       "    }\n",
       "\n",
       "    .dataframe tbody tr th {\n",
       "        vertical-align: top;\n",
       "    }\n",
       "\n",
       "    .dataframe thead th {\n",
       "        text-align: right;\n",
       "    }\n",
       "</style>\n",
       "<table border=\"1\" class=\"dataframe\">\n",
       "  <thead>\n",
       "    <tr style=\"text-align: right;\">\n",
       "      <th></th>\n",
       "      <th>Name</th>\n",
       "      <th>Type2</th>\n",
       "      <th>Orb.Per</th>\n",
       "      <th>M1</th>\n",
       "      <th>e_M1</th>\n",
       "      <th>M2</th>\n",
       "      <th>e_M2</th>\n",
       "      <th>recno</th>\n",
       "    </tr>\n",
       "  </thead>\n",
       "  <tbody>\n",
       "    <tr>\n",
       "      <th>1</th>\n",
       "      <td>V1309 Ori</td>\n",
       "      <td>AM</td>\n",
       "      <td>0.332612</td>\n",
       "      <td>0.70</td>\n",
       "      <td>0.12</td>\n",
       "      <td>0.50</td>\n",
       "      <td>0.10</td>\n",
       "      <td>83</td>\n",
       "    </tr>\n",
       "    <tr>\n",
       "      <th>9</th>\n",
       "      <td>V1043 Cen</td>\n",
       "      <td>AM</td>\n",
       "      <td>0.174592</td>\n",
       "      <td>0.40</td>\n",
       "      <td>0.10</td>\n",
       "      <td>0.45</td>\n",
       "      <td>0.10</td>\n",
       "      <td>275</td>\n",
       "    </tr>\n",
       "    <tr>\n",
       "      <th>12</th>\n",
       "      <td>J0227+1306</td>\n",
       "      <td>AM</td>\n",
       "      <td>0.157799</td>\n",
       "      <td>0.67</td>\n",
       "      <td>NaN</td>\n",
       "      <td>NaN</td>\n",
       "      <td>NaN</td>\n",
       "      <td>337</td>\n",
       "    </tr>\n",
       "    <tr>\n",
       "      <th>15</th>\n",
       "      <td>QQ Vul</td>\n",
       "      <td>AM</td>\n",
       "      <td>0.154520</td>\n",
       "      <td>0.66</td>\n",
       "      <td>NaN</td>\n",
       "      <td>0.42</td>\n",
       "      <td>NaN</td>\n",
       "      <td>356</td>\n",
       "    </tr>\n",
       "    <tr>\n",
       "      <th>19</th>\n",
       "      <td>J1007-2017</td>\n",
       "      <td>AM</td>\n",
       "      <td>0.144864</td>\n",
       "      <td>0.80</td>\n",
       "      <td>0.15</td>\n",
       "      <td>0.35</td>\n",
       "      <td>0.05</td>\n",
       "      <td>407</td>\n",
       "    </tr>\n",
       "    <tr>\n",
       "      <th>25</th>\n",
       "      <td>BY Cam</td>\n",
       "      <td>AM</td>\n",
       "      <td>0.139753</td>\n",
       "      <td>0.80</td>\n",
       "      <td>NaN</td>\n",
       "      <td>NaN</td>\n",
       "      <td>NaN</td>\n",
       "      <td>438</td>\n",
       "    </tr>\n",
       "    <tr>\n",
       "      <th>32</th>\n",
       "      <td>AM Her</td>\n",
       "      <td>AM</td>\n",
       "      <td>0.128927</td>\n",
       "      <td>0.76</td>\n",
       "      <td>0.15</td>\n",
       "      <td>NaN</td>\n",
       "      <td>NaN</td>\n",
       "      <td>481</td>\n",
       "    </tr>\n",
       "    <tr>\n",
       "      <th>37</th>\n",
       "      <td>HY Eri</td>\n",
       "      <td>AM</td>\n",
       "      <td>0.118969</td>\n",
       "      <td>0.45</td>\n",
       "      <td>0.09</td>\n",
       "      <td>0.36</td>\n",
       "      <td>NaN</td>\n",
       "      <td>504</td>\n",
       "    </tr>\n",
       "    <tr>\n",
       "      <th>57</th>\n",
       "      <td>J2218+1925</td>\n",
       "      <td>AM</td>\n",
       "      <td>0.090000</td>\n",
       "      <td>0.97</td>\n",
       "      <td>0.08</td>\n",
       "      <td>NaN</td>\n",
       "      <td>NaN</td>\n",
       "      <td>591</td>\n",
       "    </tr>\n",
       "    <tr>\n",
       "      <th>59</th>\n",
       "      <td>UZ For</td>\n",
       "      <td>AM</td>\n",
       "      <td>0.087865</td>\n",
       "      <td>0.44</td>\n",
       "      <td>0.15</td>\n",
       "      <td>NaN</td>\n",
       "      <td>NaN</td>\n",
       "      <td>607</td>\n",
       "    </tr>\n",
       "    <tr>\n",
       "      <th>61</th>\n",
       "      <td>EU Cnc</td>\n",
       "      <td>AM</td>\n",
       "      <td>0.087100</td>\n",
       "      <td>0.68</td>\n",
       "      <td>NaN</td>\n",
       "      <td>NaN</td>\n",
       "      <td>NaN</td>\n",
       "      <td>610</td>\n",
       "    </tr>\n",
       "    <tr>\n",
       "      <th>63</th>\n",
       "      <td>HU Aqr</td>\n",
       "      <td>AM</td>\n",
       "      <td>0.086820</td>\n",
       "      <td>0.80</td>\n",
       "      <td>0.04</td>\n",
       "      <td>0.18</td>\n",
       "      <td>0.06</td>\n",
       "      <td>617</td>\n",
       "    </tr>\n",
       "    <tr>\n",
       "      <th>75</th>\n",
       "      <td>WW Hor</td>\n",
       "      <td>AM</td>\n",
       "      <td>0.080199</td>\n",
       "      <td>1.10</td>\n",
       "      <td>0.20</td>\n",
       "      <td>0.19</td>\n",
       "      <td>0.02</td>\n",
       "      <td>685</td>\n",
       "    </tr>\n",
       "    <tr>\n",
       "      <th>79</th>\n",
       "      <td>ST LMi</td>\n",
       "      <td>AM</td>\n",
       "      <td>0.079089</td>\n",
       "      <td>0.76</td>\n",
       "      <td>0.30</td>\n",
       "      <td>0.17</td>\n",
       "      <td>0.07</td>\n",
       "      <td>709</td>\n",
       "    </tr>\n",
       "    <tr>\n",
       "      <th>93</th>\n",
       "      <td>EP Dra</td>\n",
       "      <td>AM</td>\n",
       "      <td>0.072656</td>\n",
       "      <td>0.43</td>\n",
       "      <td>0.07</td>\n",
       "      <td>0.13</td>\n",
       "      <td>NaN</td>\n",
       "      <td>835</td>\n",
       "    </tr>\n",
       "    <tr>\n",
       "      <th>97</th>\n",
       "      <td>V834 Cen</td>\n",
       "      <td>AM</td>\n",
       "      <td>0.070498</td>\n",
       "      <td>0.66</td>\n",
       "      <td>0.18</td>\n",
       "      <td>NaN</td>\n",
       "      <td>NaN</td>\n",
       "      <td>865</td>\n",
       "    </tr>\n",
       "    <tr>\n",
       "      <th>99</th>\n",
       "      <td>VV Pup</td>\n",
       "      <td>AM</td>\n",
       "      <td>0.069747</td>\n",
       "      <td>0.73</td>\n",
       "      <td>0.05</td>\n",
       "      <td>0.10</td>\n",
       "      <td>0.02</td>\n",
       "      <td>886</td>\n",
       "    </tr>\n",
       "    <tr>\n",
       "      <th>103</th>\n",
       "      <td>HS Cam</td>\n",
       "      <td>AM</td>\n",
       "      <td>0.068207</td>\n",
       "      <td>0.75</td>\n",
       "      <td>0.10</td>\n",
       "      <td>0.13</td>\n",
       "      <td>0.05</td>\n",
       "      <td>920</td>\n",
       "    </tr>\n",
       "    <tr>\n",
       "      <th>106</th>\n",
       "      <td>BS Tri</td>\n",
       "      <td>AM</td>\n",
       "      <td>0.066881</td>\n",
       "      <td>0.75</td>\n",
       "      <td>0.02</td>\n",
       "      <td>0.16</td>\n",
       "      <td>0.01</td>\n",
       "      <td>962</td>\n",
       "    </tr>\n",
       "    <tr>\n",
       "      <th>118</th>\n",
       "      <td>DP Leo</td>\n",
       "      <td>AM</td>\n",
       "      <td>0.062363</td>\n",
       "      <td>1.20</td>\n",
       "      <td>0.20</td>\n",
       "      <td>0.14</td>\n",
       "      <td>0.02</td>\n",
       "      <td>1073</td>\n",
       "    </tr>\n",
       "    <tr>\n",
       "      <th>137</th>\n",
       "      <td>EF Eri</td>\n",
       "      <td>AM</td>\n",
       "      <td>0.056266</td>\n",
       "      <td>0.65</td>\n",
       "      <td>NaN</td>\n",
       "      <td>0.06</td>\n",
       "      <td>NaN</td>\n",
       "      <td>1273</td>\n",
       "    </tr>\n",
       "    <tr>\n",
       "      <th>141</th>\n",
       "      <td>GG Leo</td>\n",
       "      <td>AM</td>\n",
       "      <td>0.055471</td>\n",
       "      <td>1.00</td>\n",
       "      <td>0.20</td>\n",
       "      <td>0.09</td>\n",
       "      <td>NaN</td>\n",
       "      <td>1308</td>\n",
       "    </tr>\n",
       "  </tbody>\n",
       "</table>\n",
       "</div>"
      ],
      "text/plain": [
       "           Name Type2   Orb.Per    M1  e_M1    M2  e_M2  recno\n",
       "1     V1309 Ori    AM  0.332612  0.70  0.12  0.50  0.10     83\n",
       "9     V1043 Cen    AM  0.174592  0.40  0.10  0.45  0.10    275\n",
       "12   J0227+1306    AM  0.157799  0.67   NaN   NaN   NaN    337\n",
       "15       QQ Vul    AM  0.154520  0.66   NaN  0.42   NaN    356\n",
       "19   J1007-2017    AM  0.144864  0.80  0.15  0.35  0.05    407\n",
       "25       BY Cam    AM  0.139753  0.80   NaN   NaN   NaN    438\n",
       "32       AM Her    AM  0.128927  0.76  0.15   NaN   NaN    481\n",
       "37       HY Eri    AM  0.118969  0.45  0.09  0.36   NaN    504\n",
       "57   J2218+1925    AM  0.090000  0.97  0.08   NaN   NaN    591\n",
       "59       UZ For    AM  0.087865  0.44  0.15   NaN   NaN    607\n",
       "61       EU Cnc    AM  0.087100  0.68   NaN   NaN   NaN    610\n",
       "63       HU Aqr    AM  0.086820  0.80  0.04  0.18  0.06    617\n",
       "75       WW Hor    AM  0.080199  1.10  0.20  0.19  0.02    685\n",
       "79       ST LMi    AM  0.079089  0.76  0.30  0.17  0.07    709\n",
       "93       EP Dra    AM  0.072656  0.43  0.07  0.13   NaN    835\n",
       "97     V834 Cen    AM  0.070498  0.66  0.18   NaN   NaN    865\n",
       "99       VV Pup    AM  0.069747  0.73  0.05  0.10  0.02    886\n",
       "103      HS Cam    AM  0.068207  0.75  0.10  0.13  0.05    920\n",
       "106      BS Tri    AM  0.066881  0.75  0.02  0.16  0.01    962\n",
       "118      DP Leo    AM  0.062363  1.20  0.20  0.14  0.02   1073\n",
       "137      EF Eri    AM  0.056266  0.65   NaN  0.06   NaN   1273\n",
       "141      GG Leo    AM  0.055471  1.00  0.20  0.09   NaN   1308"
      ]
     },
     "execution_count": 119,
     "metadata": {},
     "output_type": "execute_result"
    }
   ],
   "source": [
    "tab3[tab3.M1.notna()]"
   ]
  },
  {
   "cell_type": "code",
   "execution_count": 100,
   "id": "440e8be7",
   "metadata": {},
   "outputs": [],
   "source": [
    "M1_m = pd.Series([0.75,0.56,0.83,0.86,0.75,0.69])\n",
    "M1_m_e = [.04,.04,.1,.08,.02,.08]\n",
    "M2_m = pd.Series([0.19,0.133,0.15,0.18,0.16,0.085])\n",
    "M2_m_e = [.01,.008,.01,.02,.01,.005]\n",
    "P = [0.08481,0.06462793,0.0672879,0.081376,0.066881042,0.055592,]"
   ]
  },
  {
   "cell_type": "code",
   "execution_count": 93,
   "id": "b6986539",
   "metadata": {},
   "outputs": [
    {
     "data": {
      "text/plain": [
       "[]"
      ]
     },
     "execution_count": 93,
     "metadata": {},
     "output_type": "execute_result"
    },
    {
     "data": {
      "image/png": "[encoded data removed]",
      "text/plain": [
       "<Figure size 432x288 with 1 Axes>"
      ]
     },
     "metadata": {
      "needs_background": "light"
     },
     "output_type": "display_data"
    }
   ],
   "source": [
    "plt.plot(tab3['Orb.Per'],tab3.M1, '.b')\n",
    "plt.errorbar(P,M1_m,M1_m_e, color='red', marker = 'o', linestyle = '')"
   ]
  },
  {
   "cell_type": "code",
   "execution_count": 94,
   "id": "3fa3706e",
   "metadata": {},
   "outputs": [
    {
     "data": {
      "text/plain": [
       "<ErrorbarContainer object of 3 artists>"
      ]
     },
     "execution_count": 94,
     "metadata": {},
     "output_type": "execute_result"
    },
    {
     "data": {
      "image/png": "[encoded data removed]",
      "text/plain": [
       "<Figure size 432x288 with 1 Axes>"
      ]
     },
     "metadata": {
      "needs_background": "light"
     },
     "output_type": "display_data"
    }
   ],
   "source": [
    "plt.plot(tab3['Orb.Per'],tab3.M2, '.b')\n",
    "plt.errorbar(P,M2_m,M2_m_e, color='red', marker = 'o', linestyle = '')"
   ]
  },
  {
   "cell_type": "code",
   "execution_count": 112,
   "id": "bbfd81ec",
   "metadata": {},
   "outputs": [
    {
     "data": {
      "text/plain": [
       "<ErrorbarContainer object of 3 artists>"
      ]
     },
     "execution_count": 112,
     "metadata": {},
     "output_type": "execute_result"
    },
    {
     "data": {
      "image/png": "[encoded data removed]",
      "text/plain": [
       "<Figure size 432x288 with 1 Axes>"
      ]
     },
     "metadata": {
      "needs_background": "light"
     },
     "output_type": "display_data"
    }
   ],
   "source": [
    "plt.plot(tab3.M1, tab3.M2, '.b', markersize=2)\n",
    "\n",
    "plt.errorbar(M1_m,M2_m,M2_m_e,M1_m_e, color='red', marker = 'o', linestyle = '')"
   ]
  },
  {
   "cell_type": "code",
   "execution_count": 118,
   "id": "9ade0d9b",
   "metadata": {},
   "outputs": [
    {
     "data": {
      "text/plain": [
       "Text(0, 0.5, 'q')"
      ]
     },
     "execution_count": 118,
     "metadata": {},
     "output_type": "execute_result"
    },
    {
     "data": {
      "image/png": "[encoded data removed]",
      "text/plain": [
       "<Figure size 432x288 with 1 Axes>"
      ]
     },
     "metadata": {
      "needs_background": "light"
     },
     "output_type": "display_data"
    }
   ],
   "source": [
    "plt.plot(tab3['Orb.Per'],tab3.M2/tab3.M1, 'ob', markersize=5)\n",
    "plt.plot(P,M2_m/M1_m,'or', markersize=6)\n",
    "plt.xlabel('Period, days', size = 15)\n",
    "plt.ylabel('q', size = 15)"
   ]
  },
  {
   "cell_type": "code",
   "execution_count": null,
   "id": "7640d20b",
   "metadata": {},
   "outputs": [],
   "source": []
  }
 ],
 "metadata": {
  "kernelspec": {
   "display_name": "Python 3 (ipykernel)",
   "language": "python",
   "name": "python3"
  },
  "language_info": {
   "codemirror_mode": {
    "name": "ipython",
    "version": 3
   },
   "file_extension": ".py",
   "mimetype": "text/x-python",
   "name": "python",
   "nbconvert_exporter": "python",
   "pygments_lexer": "ipython3",
   "version": "3.8.12"
  }
 },
 "nbformat": 4,
 "nbformat_minor": 5
}
