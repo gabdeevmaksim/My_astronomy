{
 "cells": [
  {
   "cell_type": "code",
   "execution_count": 9,
   "id": "3f936689",
   "metadata": {},
   "outputs": [],
   "source": [
    "import pandas as pd\n",
    "import numpy as np"
   ]
  },
  {
   "cell_type": "code",
   "execution_count": 34,
   "id": "93005652",
   "metadata": {},
   "outputs": [],
   "source": [
    "path = 'C:\\\\Users\\\\gamak\\\\Documents\\\\Papers\\\\Stars\\\\'\n",
    "tab = pd.read_csv(path+'100brightest_with_SpT.csv')"
   ]
  },
  {
   "cell_type": "code",
   "execution_count": 35,
   "id": "58005d90",
   "metadata": {},
   "outputs": [],
   "source": [
    "SPT = pd.read_csv(path+'SPT_Teff.csv')"
   ]
  },
  {
   "cell_type": "code",
   "execution_count": 171,
   "id": "679977e0",
   "metadata": {},
   "outputs": [],
   "source": [
    "SPT_III = pd.read_csv(path+'SPT_Teff_III.csv')"
   ]
  },
  {
   "cell_type": "code",
   "execution_count": 36,
   "id": "78d9e122",
   "metadata": {},
   "outputs": [],
   "source": [
    "T = np.array(SPT['Temperature (K)'])"
   ]
  },
  {
   "cell_type": "code",
   "execution_count": 172,
   "id": "61a47bb1",
   "metadata": {},
   "outputs": [],
   "source": [
    "T_III = np.array(SPT_III['Temperature (K)'])"
   ]
  },
  {
   "cell_type": "code",
   "execution_count": 38,
   "id": "42b1c3c4",
   "metadata": {},
   "outputs": [],
   "source": [
    "SPT_Teff=pd.Series([SPT['Spectral Type'][np.abs(T-Te).argmin()] for Te in tab.Teff],name='SPT_Teff')"
   ]
  },
  {
   "cell_type": "code",
   "execution_count": 39,
   "id": "256accd7",
   "metadata": {},
   "outputs": [],
   "source": [
    "tab1 = pd.concat([tab,SPT_Teff], axis = 1)"
   ]
  },
  {
   "cell_type": "code",
   "execution_count": 52,
   "id": "5295ab3c",
   "metadata": {},
   "outputs": [],
   "source": [
    "SP = [str(ST).replace('b','') for ST in tab1.SP_TYPE]"
   ]
  },
  {
   "cell_type": "code",
   "execution_count": 60,
   "id": "0f18ef49",
   "metadata": {},
   "outputs": [],
   "source": [
    "Sp_T = [str(ST).replace(\"\\'\",'') for ST in SP]"
   ]
  },
  {
   "cell_type": "code",
   "execution_count": 91,
   "id": "9d444acd",
   "metadata": {},
   "outputs": [],
   "source": [
    "SPT_str = SPT['Spectral Type']"
   ]
  },
  {
   "cell_type": "code",
   "execution_count": 139,
   "id": "9c31997d",
   "metadata": {},
   "outputs": [
    {
     "name": "stderr",
     "output_type": "stream",
     "text": [
      "C:\\Users\\gamak\\AppData\\Local\\Temp/ipykernel_33500/3382983805.py:1: DeprecationWarning: The default dtype for empty Series will be 'object' instead of 'float64' in a future version. Specify a dtype explicitly to silence this warning.\n",
      "  Teff_SPT = pd.Series(name='Teff_SPT', index=tab1.index)\n"
     ]
    }
   ],
   "source": [
    "Teff_SPT = pd.Series(name='Teff_SPT', index=tab1.index)"
   ]
  },
  {
   "cell_type": "code",
   "execution_count": 140,
   "id": "d08ab7b3",
   "metadata": {},
   "outputs": [],
   "source": [
    "for j in range(len(Sp_T)):\n",
    "    for i in range(SPT_str.shape[0]):\n",
    "        if str(SPT_str[i]) in Sp_T[j]:\n",
    "            Teff_SPT[j] = SPT['Temperature (K)'][i]\n",
    "            #print(j, SPT['Temperature (K)'][i])\n",
    "            \n",
    "        "
   ]
  },
  {
   "cell_type": "code",
   "execution_count": 142,
   "id": "7424cb13",
   "metadata": {},
   "outputs": [],
   "source": [
    "import matplotlib.pyplot as plt"
   ]
  },
  {
   "cell_type": "code",
   "execution_count": 201,
   "id": "f47ef132",
   "metadata": {},
   "outputs": [],
   "source": [
    "subgia = [j for j in range(len(Sp_T)) if 'IV' in Sp_T[j]]"
   ]
  },
  {
   "cell_type": "code",
   "execution_count": 173,
   "id": "7688a138",
   "metadata": {},
   "outputs": [],
   "source": [
    "III = [j for j in range(len(Sp_T)) if 'III' in Sp_T[j]]"
   ]
  },
  {
   "cell_type": "code",
   "execution_count": 176,
   "id": "65c85990",
   "metadata": {},
   "outputs": [
    {
     "data": {
      "text/plain": [
       "'K2'"
      ]
     },
     "execution_count": 176,
     "metadata": {},
     "output_type": "execute_result"
    }
   ],
   "source": [
    "SPT_III['Spectral Type'][np.abs(T_III-tab.Teff[III[0]]).argmin()]"
   ]
  },
  {
   "cell_type": "code",
   "execution_count": 198,
   "id": "cd096087",
   "metadata": {},
   "outputs": [
    {
     "name": "stderr",
     "output_type": "stream",
     "text": [
      "C:\\Users\\gamak\\AppData\\Local\\Temp/ipykernel_33500/3315400869.py:2: SettingWithCopyWarning: \n",
      "A value is trying to be set on a copy of a slice from a DataFrame\n",
      "\n",
      "See the caveats in the documentation: https://pandas.pydata.org/pandas-docs/stable/user_guide/indexing.html#returning-a-view-versus-a-copy\n",
      "  tab2.SPT_Teff[III[i]]=SPT_III['Spectral Type'][np.abs(T_III-tab.Teff[III[i]]).argmin()]\n",
      "C:\\Users\\gamak\\AppData\\Local\\Temp/ipykernel_33500/3315400869.py:3: SettingWithCopyWarning: \n",
      "A value is trying to be set on a copy of a slice from a DataFrame\n",
      "\n",
      "See the caveats in the documentation: https://pandas.pydata.org/pandas-docs/stable/user_guide/indexing.html#returning-a-view-versus-a-copy\n",
      "  tab2.Teff_SPT[III[i]]=SPT_III['Temperature (K)'][SPT_III['Spectral Type'] == tab2.SPT_Teff[III[i]]]\n"
     ]
    }
   ],
   "source": [
    "for i in range(len(III)):\n",
    "    tab2.SPT_Teff[III[i]]=SPT_III['Spectral Type'][np.abs(T_III-tab.Teff[III[i]]).argmin()]\n",
    "    tab2.Teff_SPT[III[i]]=SPT_III['Temperature (K)'][SPT_III['Spectral Type'] == tab2.SPT_Teff[III[i]]]"
   ]
  },
  {
   "cell_type": "code",
   "execution_count": 214,
   "id": "d89c6951",
   "metadata": {},
   "outputs": [
    {
     "name": "stderr",
     "output_type": "stream",
     "text": [
      "C:\\Users\\gamak\\AppData\\Local\\Temp/ipykernel_33500/3505166803.py:1: SettingWithCopyWarning: \n",
      "A value is trying to be set on a copy of a slice from a DataFrame\n",
      "\n",
      "See the caveats in the documentation: https://pandas.pydata.org/pandas-docs/stable/user_guide/indexing.html#returning-a-view-versus-a-copy\n",
      "  tab2.SPT_Teff[III] = tab2.SPT_Teff[III]+'III'\n"
     ]
    }
   ],
   "source": [
    "tab2.SPT_Teff[III] = tab2.SPT_Teff[III]+'III'"
   ]
  },
  {
   "cell_type": "code",
   "execution_count": 232,
   "id": "3f6fdf1a",
   "metadata": {},
   "outputs": [],
   "source": [
    "hot=[19,22,43,53]"
   ]
  },
  {
   "cell_type": "code",
   "execution_count": 253,
   "id": "a070486b",
   "metadata": {},
   "outputs": [],
   "source": [
    "tick = range(0,SPT.shape[0],2)"
   ]
  },
  {
   "cell_type": "code",
   "execution_count": 267,
   "id": "22da1fec",
   "metadata": {},
   "outputs": [
    {
     "data": {
      "image/png": "[encoded data removed]",
      "text/plain": [
       "<Figure size 864x864 with 1 Axes>"
      ]
     },
     "metadata": {
      "needs_background": "light"
     },
     "output_type": "display_data"
    }
   ],
   "source": [
    "fig = plt.figure(figsize=(12,12))\n",
    "plt.plot(tab2.Teff, Teff_SPT, 'ko', )\n",
    "plt.plot(tab2.Teff[subgia], Teff_SPT[subgia], 'ro', markersize = 8)\n",
    "plt.plot(tab2.Teff[hot], Teff_SPT[hot], 'bo', markersize=10)\n",
    "plt.title('X - SpT, Y - Teff', size =20)\n",
    "plt.plot(tab2.Teff,tab1.Teff)\n",
    "plt.xticks(SPT['Temperature (K)'][tick],SPT['Spectral Type'][tick], rotation = 90, size=20)\n",
    "plt.yticks(SPT['Temperature (K)'][tick],SPT['Temperature (K)'][tick], size = 20)\n",
    "plt.xlim(3000,8800)\n",
    "plt.ylim(3000,8800)\n",
    "plt.grid(True)\n",
    "plt.savefig(path+'SpT_GAIA_SIMBAD.jpeg', dpi=300)"
   ]
  },
  {
   "cell_type": "code",
   "execution_count": 159,
   "id": "30db280b",
   "metadata": {},
   "outputs": [],
   "source": [
    "tab2 = pd.concat([tab1,Teff_SPT],axis=1)"
   ]
  },
  {
   "cell_type": "code",
   "execution_count": 161,
   "id": "0b1b52f5",
   "metadata": {},
   "outputs": [],
   "source": [
    "tab2.SP_TYPE = Sp_T"
   ]
  },
  {
   "cell_type": "code",
   "execution_count": 269,
   "id": "5fa28042",
   "metadata": {},
   "outputs": [],
   "source": [
    "tab2[['SP_TYPE','SPT_Teff']].to_csv(path+'SP_Types_comp_III.csv', index=None)"
   ]
  },
  {
   "cell_type": "code",
   "execution_count": 165,
   "id": "68ca4d2b",
   "metadata": {},
   "outputs": [],
   "source": [
    "tab2.to_csv(path+'100brightest_SIMBAD_SPT.csv', index=None)"
   ]
  },
  {
   "cell_type": "code",
   "execution_count": null,
   "id": "cf7c4e39",
   "metadata": {},
   "outputs": [],
   "source": []
  }
 ],
 "metadata": {
  "kernelspec": {
   "display_name": "Python 3 (ipykernel)",
   "language": "python",
   "name": "python3"
  },
  "language_info": {
   "codemirror_mode": {
    "name": "ipython",
    "version": 3
   },
   "file_extension": ".py",
   "mimetype": "text/x-python",
   "name": "python",
   "nbconvert_exporter": "python",
   "pygments_lexer": "ipython3",
   "version": "3.8.12"
  }
 },
 "nbformat": 4,
 "nbformat_minor": 5
}
