{
 "cells": [
  {
   "cell_type": "code",
   "execution_count": 1,
   "metadata": {},
   "outputs": [],
   "source": [
    "import pandas as pd\n",
    "import matplotlib.pyplot as plt\n",
    "import numpy as np\n",
    "import math\n",
    "k = 3.085668*10**18\n",
    "pi=math.pi\n",
    "flux = 362.3 * 4548*10**(-11)"
   ]
  },
  {
   "cell_type": "code",
   "execution_count": 2,
   "metadata": {},
   "outputs": [],
   "source": [
    "tab1 = pd.read_pickle('xstars_pm_r98_200pc_lkh10.pkl')"
   ]
  },
  {
   "cell_type": "code",
   "execution_count": 6,
   "metadata": {},
   "outputs": [],
   "source": [
    "tab2 = pd.read_pickle('gaia_xstars_pm_r98_200pc_lkh10.pkl')"
   ]
  },
  {
   "cell_type": "code",
   "execution_count": 19,
   "metadata": {},
   "outputs": [],
   "source": [
    "null = tab2['phot_bp_mean_mag'].isna()"
   ]
  },
  {
   "cell_type": "code",
   "execution_count": 45,
   "metadata": {},
   "outputs": [],
   "source": [
    "null_ind = [null.index[i] for i in range(null.shape[0]) if null.iloc[i] == True]"
   ]
  },
  {
   "cell_type": "code",
   "execution_count": 47,
   "metadata": {},
   "outputs": [],
   "source": [
    "tab3 = tab2.drop(null_ind, axis = 0)"
   ]
  },
  {
   "cell_type": "code",
   "execution_count": 95,
   "metadata": {},
   "outputs": [],
   "source": [
    "phot_col = ['phot_bp_mean_mag','phot_rp_mean_mag','phot_g_mean_mag']"
   ]
  },
  {
   "cell_type": "code",
   "execution_count": 56,
   "metadata": {},
   "outputs": [],
   "source": [
    "null_g = tab3['phot_g_mean_mag'].isna()"
   ]
  },
  {
   "cell_type": "code",
   "execution_count": 58,
   "metadata": {},
   "outputs": [],
   "source": [
    "null_ind_g = [null_g.index[i] for i in range(null_g.shape[0]) if null_g.iloc[i] == True]"
   ]
  },
  {
   "cell_type": "code",
   "execution_count": 98,
   "metadata": {},
   "outputs": [],
   "source": [
    "tab4 = tab3.drop(null_ind_g, axis = 0)"
   ]
  },
  {
   "cell_type": "code",
   "execution_count": 99,
   "metadata": {},
   "outputs": [],
   "source": [
    "null_r = tab3['phot_rp_mean_mag'].isna()"
   ]
  },
  {
   "cell_type": "code",
   "execution_count": 100,
   "metadata": {},
   "outputs": [],
   "source": [
    "null_ind_r = [null_r.index[i] for i in range(null_r.shape[0]) if null_r.iloc[i] == True]"
   ]
  },
  {
   "cell_type": "code",
   "execution_count": 101,
   "metadata": {},
   "outputs": [],
   "source": [
    "tab_fin = tab4.drop(null_ind_r, axis = 0)"
   ]
  },
  {
   "cell_type": "code",
   "execution_count": 246,
   "metadata": {},
   "outputs": [],
   "source": [
    "dop_tab = pd.DataFrame(index=tab_fin.index, columns = ['MG','Fbol','Log(Fx/Fo)','Lx','Lbol','Teff','dist_pc'], dtype='float64')"
   ]
  },
  {
   "cell_type": "code",
   "execution_count": 247,
   "metadata": {},
   "outputs": [],
   "source": [
    "for i in range(tab_fin.shape[0]):\n",
    "    dop_tab['MG'].iloc[i] = tab_fin[phot_col[2]].iloc[i]+5+5*(math.log10(tab_fin['parallax'].iloc[i])-3)\n",
    "    dop_tab['Fbol'].iloc[i] = 10**(-tab_fin[phot_col[2]].iloc[i]/2.5)*flux\n",
    "    #dop_tab['bp_rp'].iloc[i] = tab_fin[phot_col[0]].iloc[i] - tab_fin[phot_col[1]].iloc[i]\n",
    "    dop_tab['Log(Fx/Fo)'].iloc[i] = math.log10(tab_fin['ML_FLUX_0'].iloc[i]/dop_tab['Fbol'].iloc[i])\n",
    "    dop_tab['Lx'].iloc[i] = 4*pi*tab_fin['ML_FLUX_0'].iloc[i]*(1000*k/tab_fin['parallax'].iloc[i])**2\n",
    "    dop_tab['Lbol'].iloc[i] = 4*pi*dop_tab['Fbol'].iloc[i]*(1000*k/tab_fin['parallax'].iloc[i])**2\n",
    "    BR = tab_fin['bp_rp'].iloc[i]\n",
    "    dop_tab['Teff'].iloc[i] = 7928. - 3663.*BR + 803.*BR**2 - 9.*BR**3 + 325.*4.5 - 500.*4.5*BR + 278.*4.5*BR**2-53.5*4.5*BR**3\n",
    "    dop_tab['dist_pc'].iloc[i] = 1000/tab_fin['parallax'].iloc[i]"
   ]
  },
  {
   "cell_type": "code",
   "execution_count": 248,
   "metadata": {},
   "outputs": [],
   "source": [
    "dop_tab.index = tab_fin.index"
   ]
  },
  {
   "cell_type": "code",
   "execution_count": 249,
   "metadata": {},
   "outputs": [],
   "source": [
    "tab = pd.concat([tab_fin,dop_tab],axis = 1)"
   ]
  },
  {
   "cell_type": "code",
   "execution_count": 250,
   "metadata": {},
   "outputs": [],
   "source": [
    "neg = tab['Teff'] < 0"
   ]
  },
  {
   "cell_type": "code",
   "execution_count": 251,
   "metadata": {},
   "outputs": [],
   "source": [
    "tab = tab.drop(tab['bp_rp'][neg].index, axis = 0)"
   ]
  },
  {
   "cell_type": "code",
   "execution_count": 252,
   "metadata": {},
   "outputs": [],
   "source": [
    "tab.to_pickle('gaia_xstars_pm_r98_200pc_lkh10_clean.pkl')"
   ]
  },
  {
   "cell_type": "code",
   "execution_count": 253,
   "metadata": {},
   "outputs": [],
   "source": [
    "tab_drop = tab.drop_duplicates(subset='hpidx')"
   ]
  },
  {
   "cell_type": "code",
   "execution_count": 254,
   "metadata": {},
   "outputs": [],
   "source": [
    "tab_drop.to_pickle('gaia_xstars_pm_r98_200pc_lkh10_woutdup.pkl')"
   ]
  },
  {
   "cell_type": "code",
   "execution_count": 257,
   "metadata": {},
   "outputs": [
    {
     "data": {
      "text/plain": [
       "[<matplotlib.lines.Line2D at 0x1a85f80a0>]"
      ]
     },
     "execution_count": 257,
     "metadata": {},
     "output_type": "execute_result"
    },
    {
     "data": {
      "image/png": "[encoded data removed]",
      "text/plain": [
       "<Figure size 432x288 with 1 Axes>"
      ]
     },
     "metadata": {
      "needs_background": "light"
     },
     "output_type": "display_data"
    }
   ],
   "source": [
    "plt.plot(tab_drop['dist_pc'],np.log10(tab_drop['Lbol']),'k,')"
   ]
  },
  {
   "cell_type": "code",
   "execution_count": null,
   "metadata": {},
   "outputs": [],
   "source": []
  }
 ],
 "metadata": {
  "kernelspec": {
   "display_name": "Python 3 (ipykernel)",
   "language": "python",
   "name": "python3"
  },
  "language_info": {
   "codemirror_mode": {
    "name": "ipython",
    "version": 3
   },
   "file_extension": ".py",
   "mimetype": "text/x-python",
   "name": "python",
   "nbconvert_exporter": "python",
   "pygments_lexer": "ipython3",
   "version": "3.8.12"
  }
 },
 "nbformat": 4,
 "nbformat_minor": 4
}
