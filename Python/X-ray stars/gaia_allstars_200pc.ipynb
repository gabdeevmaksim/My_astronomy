{
 "cells": [
  {
   "cell_type": "code",
   "execution_count": 2,
   "metadata": {},
   "outputs": [],
   "source": [
    "import pandas as pd\n",
    "import numpy as np\n",
    "import math\n",
    "k = 3.085668*10**18\n",
    "pi=math.pi\n",
    "flux = 362.3 * 4548*10**(-11)"
   ]
  },
  {
   "cell_type": "code",
   "execution_count": 24,
   "metadata": {},
   "outputs": [],
   "source": [
    "tab1 = pd.read_csv('C:\\\\Users\\\\gamak\\\\Documents\\\\Papers\\\\Stars\\\\gaia_200pc_bprp_l0180.csv')\n",
    "tab2 = pd.read_csv('C:\\\\Users\\\\gamak\\\\Documents\\\\Papers\\\\Stars\\\\gaia_200pc_bprp_l180360.csv')"
   ]
  },
  {
   "cell_type": "code",
   "execution_count": 25,
   "metadata": {},
   "outputs": [],
   "source": [
    "dop_tab = pd.DataFrame(columns = ['MG','Fbol','Lbol','Teff','dist_pc'], dtype='float64')\n",
    "m = np.array(tab1.phot_g_mean_mag)\n",
    "BR = np.array(tab1.bp_rp)\n",
    "par = np.array(tab1.parallax)\n",
    "MG = m+5+5*(np.log10(par)-3)\n",
    "Fbol = 10**(-m/2.5)*flux\n",
    "Lbol = 4.*pi*Fbol*(1000*k/par)**2\n",
    "Teff = 7928. - 3663.*BR + 803.*BR**2 - 9.*BR**3 + 325.*4.5 - 500.*4.5*BR + 278.*4.5*BR**2-53.5*4.5*BR**3\n",
    "dist_pc = 1000/par\n",
    "dop_tab['MG'] = MG\n",
    "dop_tab['Fbol'] = Fbol\n",
    "dop_tab['Lbol'] = Lbol\n",
    "dop_tab['Teff'] = Teff\n",
    "dop_tab['dist_pc'] = dist_pc"
   ]
  },
  {
   "cell_type": "code",
   "execution_count": 26,
   "metadata": {},
   "outputs": [],
   "source": [
    "tab1 = pd.concat([tab1,dop_tab],axis = 1)"
   ]
  },
  {
   "cell_type": "code",
   "execution_count": 27,
   "metadata": {},
   "outputs": [],
   "source": [
    "del(dop_tab)"
   ]
  },
  {
   "cell_type": "code",
   "execution_count": 28,
   "metadata": {},
   "outputs": [],
   "source": [
    "dop_tab = pd.DataFrame(columns = ['MG','Fbol','Lbol','Teff','dist_pc'], dtype='float64')\n",
    "m = np.array(tab2.phot_g_mean_mag)\n",
    "BR = np.array(tab2.bp_rp)\n",
    "par = np.array(tab2.parallax)\n",
    "MG = m+5+5*(np.log10(par)-3)\n",
    "Fbol = 10**(-m/2.5)*flux\n",
    "Lbol = 4.*pi*Fbol*(1000*k/par)**2\n",
    "Teff = 7928. - 3663.*BR + 803.*BR**2 - 9.*BR**3 + 325.*4.5 - 500.*4.5*BR + 278.*4.5*BR**2-53.5*4.5*BR**3\n",
    "dist_pc = 1000/par\n",
    "dop_tab['MG'] = MG\n",
    "dop_tab['Fbol'] = Fbol\n",
    "dop_tab['Lbol'] = Lbol\n",
    "dop_tab['Teff'] = Teff\n",
    "dop_tab['dist_pc'] = dist_pc"
   ]
  },
  {
   "cell_type": "code",
   "execution_count": 29,
   "metadata": {},
   "outputs": [],
   "source": [
    "tab2 = pd.concat([tab2,dop_tab],axis = 1)"
   ]
  },
  {
   "cell_type": "code",
   "execution_count": 30,
   "metadata": {},
   "outputs": [],
   "source": [
    "tab_fin = tab1.append(tab2, ignore_index=True)"
   ]
  },
  {
   "cell_type": "code",
   "execution_count": 33,
   "metadata": {},
   "outputs": [],
   "source": [
    "tab_fin.to_csv('C:\\\\Users\\\\gamak\\\\Documents\\\\Papers\\\\Stars\\\\gaia_200pc_bprp_all.gzip')"
   ]
  },
  {
   "cell_type": "code",
   "execution_count": 37,
   "metadata": {},
   "outputs": [
    {
     "data": {
      "text/plain": [
       "Index(['solution_id', 'designation', 'source_id', 'random_index', 'ref_epoch',\n",
       "       'ra', 'ra_error', 'dec', 'dec_error', 'parallax',\n",
       "       ...\n",
       "       'dr2_rv_template_fe_h', 'l', 'b', 'ecl_lon', 'ecl_lat', 'MG', 'Fbol',\n",
       "       'Lbol', 'Teff', 'dist_pc'],\n",
       "      dtype='object', length=104)"
      ]
     },
     "execution_count": 37,
     "metadata": {},
     "output_type": "execute_result"
    }
   ],
   "source": [
    "tab_fin['phot_g_mean_mag']"
   ]
  },
  {
   "cell_type": "code",
   "execution_count": 39,
   "metadata": {},
   "outputs": [],
   "source": [
    "col = ['source_id','ra','ra_error','dec','dec_error', 'l','b','parallax','parallax_error','pm','pmra','pmra_error','pmdec',\n",
    "       'pmdec_error', 'dr2_radial_velocity', 'dr2_radial_velocity_error', 'phot_g_mean_mag','bp_rp','bp_g','MG','Fbol',\n",
    "       'Lbol','Teff','dist_pc']"
   ]
  },
  {
   "cell_type": "code",
   "execution_count": 46,
   "metadata": {},
   "outputs": [],
   "source": [
    "tab_fin[col].to_csv('E:\\\\gaia_200pc_bprp_all_chcol.gzip')"
   ]
  },
  {
   "cell_type": "code",
   "execution_count": null,
   "metadata": {},
   "outputs": [],
   "source": []
  }
 ],
 "metadata": {
  "kernelspec": {
   "display_name": "Python 3 (ipykernel)",
   "language": "python",
   "name": "python3"
  },
  "language_info": {
   "codemirror_mode": {
    "name": "ipython",
    "version": 3
   },
   "file_extension": ".py",
   "mimetype": "text/x-python",
   "name": "python",
   "nbconvert_exporter": "python",
   "pygments_lexer": "ipython3",
   "version": "3.8.12"
  }
 },
 "nbformat": 4,
 "nbformat_minor": 4
}
