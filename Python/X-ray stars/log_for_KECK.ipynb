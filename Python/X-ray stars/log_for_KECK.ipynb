{
 "cells": [
  {
   "cell_type": "code",
   "execution_count": 4,
   "id": "14986eb2",
   "metadata": {},
   "outputs": [],
   "source": [
    "import os\n",
    "from astropy.io import fits\n",
    "import pandas as pd"
   ]
  },
  {
   "cell_type": "code",
   "execution_count": 19,
   "id": "cff47d8a",
   "metadata": {},
   "outputs": [],
   "source": [
    "def log_for_KECK(DIR):\n",
    "    os.chdir(DIR)\n",
    "    files = os.listdir(os.curdir) # search all files current directory\n",
    "    fitses = [file for file in files if file[-4:] == 'fits'] # choose files with defined prefix\n",
    "    log = pd.DataFrame(columns = ['file' ,'OBJECT'])\n",
    "    \n",
    "    for f in fitses:\n",
    "        hdu = fits.open(f)\n",
    "        log = log.append({'file': f[:-5],'OBJECT': hdu[0].header['OBJECT']}, ignore_index=True)\n",
    "    log.to_csv(f[:6]+'.log', index=False)"
   ]
  },
  {
   "cell_type": "code",
   "execution_count": 20,
   "id": "268a974a",
   "metadata": {},
   "outputs": [],
   "source": [
    "log_for_KECK('e:\\\\Observations\\\\KECK1\\\\data_srg_20220126\\\\')"
   ]
  },
  {
   "cell_type": "code",
   "execution_count": null,
   "id": "2c4193ec",
   "metadata": {},
   "outputs": [],
   "source": []
  }
 ],
 "metadata": {
  "kernelspec": {
   "display_name": "Python 3 (ipykernel)",
   "language": "python",
   "name": "python3"
  },
  "language_info": {
   "codemirror_mode": {
    "name": "ipython",
    "version": 3
   },
   "file_extension": ".py",
   "mimetype": "text/x-python",
   "name": "python",
   "nbconvert_exporter": "python",
   "pygments_lexer": "ipython3",
   "version": "3.8.12"
  }
 },
 "nbformat": 4,
 "nbformat_minor": 5
}
