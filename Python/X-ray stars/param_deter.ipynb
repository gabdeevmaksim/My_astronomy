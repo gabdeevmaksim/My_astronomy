{
 "cells": [
  {
   "cell_type": "code",
   "execution_count": 4,
   "id": "d38343b2",
   "metadata": {},
   "outputs": [],
   "source": [
    "import numpy as np\n",
    "import math\n",
    "import seaborn as sns\n",
    "import scipy \n",
    "import matplotlib.pyplot as plt\n",
    "import pandas as pd\n",
    "import matplotlib.colors as colors\n",
    "import os"
   ]
  },
  {
   "cell_type": "code",
   "execution_count": 5,
   "id": "dbb04886",
   "metadata": {},
   "outputs": [
    {
     "data": {
      "text/plain": [
       "(<function print>, array([0.12672844, 0.17274998, 0.22874907]))"
      ]
     },
     "execution_count": 5,
     "metadata": {},
     "output_type": "execute_result"
    }
   ],
   "source": [
    "P=0.0893869\n",
    "K2=np.array([239.,265.,291])\n",
    "i=56.\n",
    "F1=(1.0385e-7)*P*K2**3\n",
    "print, F1"
   ]
  },
  {
   "cell_type": "code",
   "execution_count": 42,
   "id": "3e27237d",
   "metadata": {},
   "outputs": [
    {
     "data": {
      "text/plain": [
       "7723.028160000001"
      ]
     },
     "execution_count": 42,
     "metadata": {},
     "output_type": "execute_result"
    }
   ],
   "source": [
    "P*86400"
   ]
  },
  {
   "cell_type": "code",
   "execution_count": 6,
   "id": "54ef67f1",
   "metadata": {},
   "outputs": [],
   "source": [
    "M1=np.arange(0.5,1.41,0.01)\n",
    "q=np.arange(0.01,1.01,.01)"
   ]
  },
  {
   "cell_type": "code",
   "execution_count": 7,
   "id": "b6a703ed",
   "metadata": {},
   "outputs": [],
   "source": [
    "par = pd.DataFrame(columns=['M1','q','R2','Rl2','A'])"
   ]
  },
  {
   "cell_type": "code",
   "execution_count": 8,
   "id": "f00d7610",
   "metadata": {},
   "outputs": [],
   "source": [
    "q_M1 = np.zeros(shape=(len(q),len(M1)))"
   ]
  },
  {
   "cell_type": "code",
   "execution_count": 12,
   "id": "5d6fa9fa",
   "metadata": {},
   "outputs": [],
   "source": [
    "err = 0.055\n",
    "j=0\n",
    "for m in M1:\n",
    "    F11=m*(np.sin(2*math.pi*(i/360.)))**3/(q+1)**2\n",
    "    q_M1[:,j] = abs(F11 - F1[1])\n",
    "    j=j+1\n",
    "    #print(F11[abs(F11-F1) < err])\n",
    "    #if F11[abs(F11-F1) < err] == True:\n",
    "    #    new_row = pd.Series({'M1':m,'q':q[abs(F11-F1) < err]})\n",
    "    #    par = par.append(new_row, ignore_index=True)"
   ]
  },
  {
   "cell_type": "code",
   "execution_count": 13,
   "id": "998d920e",
   "metadata": {},
   "outputs": [
    {
     "data": {
      "text/plain": [
       "<matplotlib.colorbar.Colorbar at 0xdd9bcd0>"
      ]
     },
     "execution_count": 13,
     "metadata": {},
     "output_type": "execute_result"
    },
    {
     "data": {
      "image/png": "[encoded data removed]",
      "text/plain": [
       "<Figure size 432x288 with 2 Axes>"
      ]
     },
     "metadata": {
      "needs_background": "light"
     },
     "output_type": "display_data"
    }
   ],
   "source": [
    "fig, ax = plt.subplots(1, 1)\n",
    "#norm=colors.LogNorm(vmin=q_M1.min(), vmax=q_M1.max()),\n",
    "pcm = ax.pcolor(M1, q, q_M1,\n",
    "                   cmap='gray', shading='nearest', vmin=0., vmax=0.055)\n",
    "ax.set_xlabel('M1')\n",
    "ax.set_ylabel('q')\n",
    "fig.colorbar(pcm, ax=ax, extend='max')"
   ]
  },
  {
   "cell_type": "code",
   "execution_count": 14,
   "id": "832a3be0",
   "metadata": {},
   "outputs": [],
   "source": [
    "q_s = q[np.where(q_M1<0.055)[0]]\n",
    "M1_s = M1[np.where(q_M1<0.055)[1]]"
   ]
  },
  {
   "cell_type": "code",
   "execution_count": 15,
   "id": "06410fa2",
   "metadata": {},
   "outputs": [
    {
     "data": {
      "text/plain": [
       "array([0.69364437, 0.69570267, 0.70031011, ..., 1.18043991, 1.18328435,\n",
       "       1.18611519])"
      ]
     },
     "execution_count": 15,
     "metadata": {},
     "output_type": "execute_result"
    }
   ],
   "source": [
    "G=6.6740831e-11\n",
    "ae = 1.9885e30\n",
    "Rsol = 6.9551e8\n",
    "a=(G*(M1_s+M1_s*q_s)*ae*(P*86400)**2/(4*math.pi**2))**(1./3.)/Rsol\n",
    "a"
   ]
  },
  {
   "cell_type": "code",
   "execution_count": 38,
   "id": "04d0f472",
   "metadata": {},
   "outputs": [
    {
     "data": {
      "text/plain": [
       "[<matplotlib.lines.Line2D at 0x65be940>]"
      ]
     },
     "execution_count": 38,
     "metadata": {},
     "output_type": "execute_result"
    },
    {
     "data": {
      "image/png": "[encoded data removed]",
      "text/plain": [
       "<Figure size 432x288 with 1 Axes>"
      ]
     },
     "metadata": {
      "needs_background": "light"
     },
     "output_type": "display_data"
    }
   ],
   "source": [
    "Rl2=a*.49*q_s**(2./3.)/(.6*q_s**(2./3.)+np.log(1+q_s**(1./3.)))\n",
    "plt.plot(M2_s,Rl2)"
   ]
  },
  {
   "cell_type": "code",
   "execution_count": 17,
   "id": "f7f62301",
   "metadata": {},
   "outputs": [
    {
     "data": {
      "text/plain": [
       "array([0.06  , 0.065 , 0.0663, ..., 1.38  , 1.39  , 1.4   ])"
      ]
     },
     "execution_count": 17,
     "metadata": {},
     "output_type": "execute_result"
    }
   ],
   "source": [
    "M2_s=M1_s*q_s\n",
    "M2_s"
   ]
  },
  {
   "cell_type": "code",
   "execution_count": 18,
   "id": "b833a4a0",
   "metadata": {},
   "outputs": [],
   "source": [
    "M2=np.array([0.16,0.20,0.25,0.3,0.35,0.4])\n",
    "R2=np.array([1.3506400000e+10,1.5829100000e+10,1.8583900000e+10,2.1276200000e+10,2.4502900000e+10,2.7400800000e+10])"
   ]
  },
  {
   "cell_type": "code",
   "execution_count": 19,
   "id": "ddc6555b",
   "metadata": {},
   "outputs": [
    {
     "data": {
      "text/plain": [
       "[<matplotlib.lines.Line2D at 0x64d6b50>]"
      ]
     },
     "execution_count": 19,
     "metadata": {},
     "output_type": "execute_result"
    },
    {
     "data": {
      "image/png": "[encoded data removed]",
      "text/plain": [
       "<Figure size 432x288 with 1 Axes>"
      ]
     },
     "metadata": {
      "needs_background": "light"
     },
     "output_type": "display_data"
    }
   ],
   "source": [
    "plt.plot(M2,R2/Rsol/100*1.075)\n",
    "plt.plot(M2_s,Rl2)"
   ]
  },
  {
   "cell_type": "code",
   "execution_count": 41,
   "id": "7e0b952b",
   "metadata": {},
   "outputs": [
    {
     "data": {
      "text/plain": [
       "(0.5606542056074767,\n",
       " 0.040586149933505865,\n",
       " 0.4667541229385308,\n",
       " 0.16099158878504674)"
      ]
     },
     "execution_count": 41,
     "metadata": {},
     "output_type": "execute_result"
    }
   ],
   "source": [
    "M1_s[abs(Rl2-R2[0]/Rsol/100*1.075) < 0.01].mean(), M1_s[abs(Rl2-R2[0]/Rsol/100*1.075) < 0.01].std(), q_s[abs(Rl2-R2[0]/Rsol/100*1.075) < 0.1].mean(), M2_s[abs(Rl2-R2[0]/Rsol/100*1.075) < 0.01].mean()"
   ]
  },
  {
   "cell_type": "code",
   "execution_count": 35,
   "id": "d9c55c3e",
   "metadata": {},
   "outputs": [
    {
     "data": {
      "text/plain": [
       "(0.7545044026204809, 0.015653045019660014)"
      ]
     },
     "execution_count": 35,
     "metadata": {},
     "output_type": "execute_result"
    }
   ],
   "source": [
    "Rl2[abs(Rl2-R2[0]/Rsol/100*1.075) < 0.01].mean(), Rl2[abs(Rl2-R2[0]/Rsol/100*1.075) < 0.01].std()\n",
    "a[abs(Rl2-R2[0]/Rsol/100*1.075) < 0.01].mean(), a[abs(Rl2-R2[0]/Rsol/100*1.075) < 0.01].std()"
   ]
  },
  {
   "cell_type": "code",
   "execution_count": 353,
   "id": "d3975c4c",
   "metadata": {},
   "outputs": [],
   "source": [
    "DIR=os.chdir('c:/Users/gamak/Documents/Papers/MT_Dra/VAR_ROT0.00_SH_Z0.017_Y0.279/')\n",
    "files=os.listdir(DIR)"
   ]
  },
  {
   "cell_type": "code",
   "execution_count": null,
   "id": "a46c835d",
   "metadata": {},
   "outputs": [],
   "source": []
  }
 ],
 "metadata": {
  "kernelspec": {
   "display_name": "Python 3 (ipykernel)",
   "language": "python",
   "name": "python3"
  },
  "language_info": {
   "codemirror_mode": {
    "name": "ipython",
    "version": 3
   },
   "file_extension": ".py",
   "mimetype": "text/x-python",
   "name": "python",
   "nbconvert_exporter": "python",
   "pygments_lexer": "ipython3",
   "version": "3.8.12"
  }
 },
 "nbformat": 4,
 "nbformat_minor": 5
}
