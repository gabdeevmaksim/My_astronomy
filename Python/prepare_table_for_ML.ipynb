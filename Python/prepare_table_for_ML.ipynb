{
 "cells": [
  {
   "cell_type": "code",
   "execution_count": 1,
   "id": "0b669f77",
   "metadata": {},
   "outputs": [],
   "source": [
    "import pandas as pd\n",
    "import os"
   ]
  },
  {
   "cell_type": "code",
   "execution_count": 2,
   "id": "30b6ff94",
   "metadata": {},
   "outputs": [],
   "source": [
    "os.chdir('c:/Users/gamak/Documents/Papers/Azamat_variables/')"
   ]
  },
  {
   "cell_type": "code",
   "execution_count": 5,
   "id": "d9c5ca6b",
   "metadata": {},
   "outputs": [
    {
     "data": {
      "text/plain": [
       "Index(['ID', 'RAJ2000', 'DEJ2000', 'l', 'b', 'ML_classification',\n",
       "       'ML_probability', 'Mean_gmag', 'Amplitude', 'Period', 'EpochHJD',\n",
       "       'LKSL_statistic', 'ASASSN_Discovery', 'EDR3_source_id', 'parallax',\n",
       "       'parallax_error', 'parallax_over_error', 'pm', 'pmra', 'pmra_error',\n",
       "       'pmdec', 'pmdec_error', 'ruwe', 'phot_g_mean_mag', 'e_phot_g_mean_mag',\n",
       "       'phot_bp_mean_mag', 'e_phot_bp_mean_mag', 'phot_rp_mean_mag',\n",
       "       'e_phot_rp_mean_mag', 'bp_rp', 'EDR3_dist', 'GALEX_ID', 'FUVmag',\n",
       "       'e_FUVmag', 'NUVmag', 'e_NUVmag', 'TIC_ID', 'AllWISE_ID', 'W1mag',\n",
       "       'W2mag', 'W3mag', 'W4mag', 'Jmag', 'Hmag', 'Kmag', 'e_W1mag', 'e_W2mag',\n",
       "       'e_W3mag', 'e_W4mag', 'e_Jmag', 'e_Hmag', 'e_Kmag', 'Reference'],\n",
       "      dtype='object')"
      ]
     },
     "execution_count": 5,
     "metadata": {},
     "output_type": "execute_result"
    }
   ],
   "source": [
    "col_names=pd.read_csv('asassn_variables_x.csv', nrows=0).columns\n",
    "col_names.delete(0)"
   ]
  },
  {
   "cell_type": "code",
   "execution_count": 25,
   "id": "2f25a270",
   "metadata": {},
   "outputs": [],
   "source": [
    "col_names_ML = col_names.delete([1,2,3,4,6,10,11,12,13,15,18,19,20,21,22,24,26,28,30,31,33,35,36,37,45,46,47,48,49,50,51,52])"
   ]
  },
  {
   "cell_type": "code",
   "execution_count": 26,
   "id": "9565d3a2",
   "metadata": {},
   "outputs": [],
   "source": [
    "ML_table=pd.read_csv('asassn_variables_x.csv', usecols=col_names_ML)"
   ]
  },
  {
   "cell_type": "code",
   "execution_count": 101,
   "id": "8fa63620",
   "metadata": {},
   "outputs": [],
   "source": [
    "ML_table.to_pickle('asassn_for_ML.pkl')"
   ]
  },
  {
   "cell_type": "code",
   "execution_count": 47,
   "id": "44df5258",
   "metadata": {},
   "outputs": [],
   "source": [
    "df1=pd.read_csv('Var_coord.csv')"
   ]
  },
  {
   "cell_type": "code",
   "execution_count": 33,
   "id": "fa56d1a5",
   "metadata": {},
   "outputs": [
    {
     "data": {
      "text/html": [
       "<div>\n",
       "<style scoped>\n",
       "    .dataframe tbody tr th:only-of-type {\n",
       "        vertical-align: middle;\n",
       "    }\n",
       "\n",
       "    .dataframe tbody tr th {\n",
       "        vertical-align: top;\n",
       "    }\n",
       "\n",
       "    .dataframe thead th {\n",
       "        text-align: right;\n",
       "    }\n",
       "</style>\n",
       "<table border=\"1\" class=\"dataframe\">\n",
       "  <thead>\n",
       "    <tr style=\"text-align: right;\">\n",
       "      <th></th>\n",
       "      <th>angDist</th>\n",
       "      <th>svs</th>\n",
       "      <th>source_id</th>\n",
       "      <th>ra</th>\n",
       "      <th>dec</th>\n",
       "      <th>ra_epoch2000</th>\n",
       "      <th>dec_epoch2000</th>\n",
       "      <th>errHalfMaj</th>\n",
       "      <th>errHalfMin</th>\n",
       "      <th>errPosAng</th>\n",
       "      <th>...</th>\n",
       "      <th>phot_g_mean_mag_error</th>\n",
       "      <th>phot_bp_mean_mag_error</th>\n",
       "      <th>phot_rp_mean_mag_error</th>\n",
       "      <th>phot_g_mean_mag_corrected</th>\n",
       "      <th>phot_g_mean_mag_error_corrected</th>\n",
       "      <th>phot_g_mean_flux_corrected</th>\n",
       "      <th>phot_bp_rp_excess_factor_corrected</th>\n",
       "      <th>ra_epoch2000_error</th>\n",
       "      <th>dec_epoch2000_error</th>\n",
       "      <th>ra_dec_epoch2000_corr</th>\n",
       "    </tr>\n",
       "  </thead>\n",
       "  <tbody>\n",
       "    <tr>\n",
       "      <th>0</th>\n",
       "      <td>0.081379</td>\n",
       "      <td>1</td>\n",
       "      <td>393699452798541824</td>\n",
       "      <td>2.778971</td>\n",
       "      <td>49.727200</td>\n",
       "      <td>2.779006</td>\n",
       "      <td>49.727197</td>\n",
       "      <td>0.000656</td>\n",
       "      <td>0.000457</td>\n",
       "      <td>130.98</td>\n",
       "      <td>...</td>\n",
       "      <td>0.003464</td>\n",
       "      <td>0.006993</td>\n",
       "      <td>0.008143</td>\n",
       "      <td>16.037857</td>\n",
       "      <td>0.003464</td>\n",
       "      <td>7241.090</td>\n",
       "      <td>-0.001</td>\n",
       "      <td>0.5787</td>\n",
       "      <td>0.5513</td>\n",
       "      <td>-0.3426</td>\n",
       "    </tr>\n",
       "    <tr>\n",
       "      <th>1</th>\n",
       "      <td>0.061876</td>\n",
       "      <td>2</td>\n",
       "      <td>393727387266077696</td>\n",
       "      <td>2.191810</td>\n",
       "      <td>49.745241</td>\n",
       "      <td>2.191827</td>\n",
       "      <td>49.745254</td>\n",
       "      <td>0.000462</td>\n",
       "      <td>0.000307</td>\n",
       "      <td>129.24</td>\n",
       "      <td>...</td>\n",
       "      <td>0.002773</td>\n",
       "      <td>0.003588</td>\n",
       "      <td>0.004199</td>\n",
       "      <td>15.326069</td>\n",
       "      <td>0.002773</td>\n",
       "      <td>13948.200</td>\n",
       "      <td>0.005</td>\n",
       "      <td>0.4072</td>\n",
       "      <td>0.3767</td>\n",
       "      <td>-0.3830</td>\n",
       "    </tr>\n",
       "    <tr>\n",
       "      <th>2</th>\n",
       "      <td>0.122985</td>\n",
       "      <td>3</td>\n",
       "      <td>393755042556557056</td>\n",
       "      <td>2.286177</td>\n",
       "      <td>49.930757</td>\n",
       "      <td>2.286126</td>\n",
       "      <td>49.930747</td>\n",
       "      <td>0.000228</td>\n",
       "      <td>0.000174</td>\n",
       "      <td>124.70</td>\n",
       "      <td>...</td>\n",
       "      <td>0.002777</td>\n",
       "      <td>0.004971</td>\n",
       "      <td>0.004178</td>\n",
       "      <td>13.615104</td>\n",
       "      <td>0.002777</td>\n",
       "      <td>67438.100</td>\n",
       "      <td>0.008</td>\n",
       "      <td>0.2119</td>\n",
       "      <td>0.1931</td>\n",
       "      <td>-0.2472</td>\n",
       "    </tr>\n",
       "    <tr>\n",
       "      <th>3</th>\n",
       "      <td>0.081585</td>\n",
       "      <td>4</td>\n",
       "      <td>393761880145088000</td>\n",
       "      <td>2.228665</td>\n",
       "      <td>50.052790</td>\n",
       "      <td>2.228652</td>\n",
       "      <td>50.052811</td>\n",
       "      <td>0.002138</td>\n",
       "      <td>0.001633</td>\n",
       "      <td>109.45</td>\n",
       "      <td>...</td>\n",
       "      <td>0.003109</td>\n",
       "      <td>0.037822</td>\n",
       "      <td>0.009586</td>\n",
       "      <td>18.305211</td>\n",
       "      <td>0.003100</td>\n",
       "      <td>897.144</td>\n",
       "      <td>-0.003</td>\n",
       "      <td>2.0882</td>\n",
       "      <td>1.6967</td>\n",
       "      <td>-0.1687</td>\n",
       "    </tr>\n",
       "    <tr>\n",
       "      <th>4</th>\n",
       "      <td>0.027543</td>\n",
       "      <td>5</td>\n",
       "      <td>393764358343856512</td>\n",
       "      <td>2.275185</td>\n",
       "      <td>50.182619</td>\n",
       "      <td>2.275173</td>\n",
       "      <td>50.182617</td>\n",
       "      <td>0.000487</td>\n",
       "      <td>0.000374</td>\n",
       "      <td>127.20</td>\n",
       "      <td>...</td>\n",
       "      <td>0.002911</td>\n",
       "      <td>0.004009</td>\n",
       "      <td>0.005224</td>\n",
       "      <td>15.597615</td>\n",
       "      <td>0.002911</td>\n",
       "      <td>10861.800</td>\n",
       "      <td>0.006</td>\n",
       "      <td>0.4493</td>\n",
       "      <td>0.4191</td>\n",
       "      <td>-0.2494</td>\n",
       "    </tr>\n",
       "  </tbody>\n",
       "</table>\n",
       "<p>5 rows × 63 columns</p>\n",
       "</div>"
      ],
      "text/plain": [
       "    angDist  svs           source_id        ra        dec  ra_epoch2000  \\\n",
       "0  0.081379    1  393699452798541824  2.778971  49.727200      2.779006   \n",
       "1  0.061876    2  393727387266077696  2.191810  49.745241      2.191827   \n",
       "2  0.122985    3  393755042556557056  2.286177  49.930757      2.286126   \n",
       "3  0.081585    4  393761880145088000  2.228665  50.052790      2.228652   \n",
       "4  0.027543    5  393764358343856512  2.275185  50.182619      2.275173   \n",
       "\n",
       "   dec_epoch2000  errHalfMaj  errHalfMin  errPosAng  ...  \\\n",
       "0      49.727197    0.000656    0.000457     130.98  ...   \n",
       "1      49.745254    0.000462    0.000307     129.24  ...   \n",
       "2      49.930747    0.000228    0.000174     124.70  ...   \n",
       "3      50.052811    0.002138    0.001633     109.45  ...   \n",
       "4      50.182617    0.000487    0.000374     127.20  ...   \n",
       "\n",
       "   phot_g_mean_mag_error  phot_bp_mean_mag_error  phot_rp_mean_mag_error  \\\n",
       "0               0.003464                0.006993                0.008143   \n",
       "1               0.002773                0.003588                0.004199   \n",
       "2               0.002777                0.004971                0.004178   \n",
       "3               0.003109                0.037822                0.009586   \n",
       "4               0.002911                0.004009                0.005224   \n",
       "\n",
       "   phot_g_mean_mag_corrected  phot_g_mean_mag_error_corrected  \\\n",
       "0                  16.037857                         0.003464   \n",
       "1                  15.326069                         0.002773   \n",
       "2                  13.615104                         0.002777   \n",
       "3                  18.305211                         0.003100   \n",
       "4                  15.597615                         0.002911   \n",
       "\n",
       "   phot_g_mean_flux_corrected  phot_bp_rp_excess_factor_corrected  \\\n",
       "0                    7241.090                              -0.001   \n",
       "1                   13948.200                               0.005   \n",
       "2                   67438.100                               0.008   \n",
       "3                     897.144                              -0.003   \n",
       "4                   10861.800                               0.006   \n",
       "\n",
       "   ra_epoch2000_error  dec_epoch2000_error  ra_dec_epoch2000_corr  \n",
       "0              0.5787               0.5513                -0.3426  \n",
       "1              0.4072               0.3767                -0.3830  \n",
       "2              0.2119               0.1931                -0.2472  \n",
       "3              2.0882               1.6967                -0.1687  \n",
       "4              0.4493               0.4191                -0.2494  \n",
       "\n",
       "[5 rows x 63 columns]"
      ]
     },
     "execution_count": 33,
     "metadata": {},
     "output_type": "execute_result"
    }
   ],
   "source": [
    "dfGAIA=pd.read_csv('Cross_to_GAIA_EDR3.csv')"
   ]
  },
  {
   "cell_type": "code",
   "execution_count": 49,
   "id": "c9b8197c",
   "metadata": {},
   "outputs": [
    {
     "data": {
      "text/plain": [
       "Index(['ID', 'ML_classification', 'Mean_gmag', 'Amplitude', 'Period',\n",
       "       'parallax', 'parallax_over_error', 'pm', 'phot_g_mean_mag',\n",
       "       'phot_bp_mean_mag', 'phot_rp_mean_mag', 'bp_rp', 'FUVmag', 'NUVmag',\n",
       "       'W1mag', 'W2mag', 'W3mag', 'W4mag', 'Jmag', 'Hmag', 'Kmag'],\n",
       "      dtype='object')"
      ]
     },
     "execution_count": 49,
     "metadata": {},
     "output_type": "execute_result"
    }
   ],
   "source": [
    "col_names_ML"
   ]
  },
  {
   "cell_type": "code",
   "execution_count": 51,
   "id": "6cf8b5a7",
   "metadata": {},
   "outputs": [],
   "source": [
    "df2 = df1.merge(dfGAIA, how='left', on='svs')"
   ]
  },
  {
   "cell_type": "code",
   "execution_count": 77,
   "id": "7d214a4c",
   "metadata": {},
   "outputs": [],
   "source": [
    "col=['svs','parallax', 'parallax_over_error', 'pm', 'phot_g_mean_mag',\n",
    "       'phot_bp_mean_mag', 'phot_rp_mean_mag', 'bp_rp', 'FUVmag', 'NUVmag',\n",
    "       'W1mag', 'W2mag', 'W3mag', 'W4mag', 'Jmag', 'Hmag', 'Kmag']"
   ]
  },
  {
   "cell_type": "code",
   "execution_count": 60,
   "id": "6266c675",
   "metadata": {},
   "outputs": [],
   "source": [
    "dfGALEX=pd.read_csv('Cross_to_GALEX.csv')"
   ]
  },
  {
   "cell_type": "code",
   "execution_count": 61,
   "id": "ed31f47e",
   "metadata": {},
   "outputs": [],
   "source": [
    "df4 = df3.merge(dfGALEX, how='left', on='svs')"
   ]
  },
  {
   "cell_type": "code",
   "execution_count": 68,
   "id": "6d9e3f10",
   "metadata": {},
   "outputs": [],
   "source": [
    "df2MASS=pd.read_csv('Cross_to_2MASS.csv')\n",
    "dfWISE=pd.read_csv('Cross_to_WISE.csv')"
   ]
  },
  {
   "cell_type": "code",
   "execution_count": 94,
   "id": "67d40637",
   "metadata": {},
   "outputs": [],
   "source": [
    "df5 = df4.merge(dfWISE,how='left',on='svs')"
   ]
  },
  {
   "cell_type": "code",
   "execution_count": 102,
   "id": "fcd54fb0",
   "metadata": {},
   "outputs": [],
   "source": [
    "df5[col].to_csv('variable_to_solve.csv')"
   ]
  },
  {
   "cell_type": "code",
   "execution_count": null,
   "id": "6673bcbf",
   "metadata": {},
   "outputs": [],
   "source": []
  }
 ],
 "metadata": {
  "kernelspec": {
   "display_name": "Python 3 (ipykernel)",
   "language": "python",
   "name": "python3"
  },
  "language_info": {
   "codemirror_mode": {
    "name": "ipython",
    "version": 3
   },
   "file_extension": ".py",
   "mimetype": "text/x-python",
   "name": "python",
   "nbconvert_exporter": "python",
   "pygments_lexer": "ipython3",
   "version": "3.8.12"
  }
 },
 "nbformat": 4,
 "nbformat_minor": 5
}
